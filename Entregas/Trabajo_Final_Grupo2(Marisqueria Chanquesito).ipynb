{
  "nbformat": 4,
  "nbformat_minor": 0,
  "metadata": {
    "colab": {
      "provenance": [],
      "collapsed_sections": [
        "3ZrXr9rmrNiN"
      ]
    },
    "kernelspec": {
      "name": "python3",
      "display_name": "Python 3"
    },
    "language_info": {
      "name": "python"
    }
  },
  "cells": [
    {
      "cell_type": "markdown",
      "source": [
        "##Grupo Marisqueria Chanquesito:\n",
        "\n",
        "##Amir Vera Castro,     20212159                        \n",
        "##Angie Urrutia Flores, 20230313                                           \n",
        "##Giacomo Saenz,        20232069                                    \n",
        "##Paolo Robles Prado,   20203849                  \n"
      ],
      "metadata": {
        "id": "ojJfa1c4VseM"
      }
    },
    {
      "cell_type": "markdown",
      "source": [
        "# Análisis de estrés en adultos basado en hábitos de vida\n",
        "\n",
        "Este notebook adapta el análisis realizado originalmente sobre estudiantes, aplicándolo a un conjunto de datos real sobre adultos con variables relacionadas al estilo de vida, salud y estrés.\n",
        "El objetivo es investigar cómo distintos hábitos diarios influyen en los niveles de estrés reportados.\n"
      ],
      "metadata": {
        "id": "JR8E5hLXwm75"
      }
    },
    {
      "cell_type": "markdown",
      "source": [
        "## Importación de librerias"
      ],
      "metadata": {
        "id": "-2VCLo81gCKU"
      }
    },
    {
      "cell_type": "code",
      "execution_count": 19,
      "metadata": {
        "id": "mPpH6sC0wlZF",
        "colab": {
          "base_uri": "https://localhost:8080/"
        },
        "outputId": "c02ec4b6-a286-475d-937d-510bae079a22"
      },
      "outputs": [
        {
          "output_type": "stream",
          "name": "stdout",
          "text": [
            "Requirement already satisfied: kaggle in /usr/local/lib/python3.11/dist-packages (1.7.4.5)\n",
            "Requirement already satisfied: bleach in /usr/local/lib/python3.11/dist-packages (from kaggle) (6.2.0)\n",
            "Requirement already satisfied: certifi>=14.05.14 in /usr/local/lib/python3.11/dist-packages (from kaggle) (2025.7.14)\n",
            "Requirement already satisfied: charset-normalizer in /usr/local/lib/python3.11/dist-packages (from kaggle) (3.4.2)\n",
            "Requirement already satisfied: idna in /usr/local/lib/python3.11/dist-packages (from kaggle) (3.10)\n",
            "Requirement already satisfied: protobuf in /usr/local/lib/python3.11/dist-packages (from kaggle) (5.29.5)\n",
            "Requirement already satisfied: python-dateutil>=2.5.3 in /usr/local/lib/python3.11/dist-packages (from kaggle) (2.9.0.post0)\n",
            "Requirement already satisfied: python-slugify in /usr/local/lib/python3.11/dist-packages (from kaggle) (8.0.4)\n",
            "Requirement already satisfied: requests in /usr/local/lib/python3.11/dist-packages (from kaggle) (2.32.3)\n",
            "Requirement already satisfied: setuptools>=21.0.0 in /usr/local/lib/python3.11/dist-packages (from kaggle) (75.2.0)\n",
            "Requirement already satisfied: six>=1.10 in /usr/local/lib/python3.11/dist-packages (from kaggle) (1.17.0)\n",
            "Requirement already satisfied: text-unidecode in /usr/local/lib/python3.11/dist-packages (from kaggle) (1.3)\n",
            "Requirement already satisfied: tqdm in /usr/local/lib/python3.11/dist-packages (from kaggle) (4.67.1)\n",
            "Requirement already satisfied: urllib3>=1.15.1 in /usr/local/lib/python3.11/dist-packages (from kaggle) (2.4.0)\n",
            "Requirement already satisfied: webencodings in /usr/local/lib/python3.11/dist-packages (from kaggle) (0.5.1)\n",
            "Requirement already satisfied: autoviz in /usr/local/lib/python3.11/dist-packages (0.1.905)\n",
            "Requirement already satisfied: xlrd in /usr/local/lib/python3.11/dist-packages (from autoviz) (2.0.2)\n",
            "Requirement already satisfied: wordcloud in /usr/local/lib/python3.11/dist-packages (from autoviz) (1.9.4)\n",
            "Requirement already satisfied: emoji in /usr/local/lib/python3.11/dist-packages (from autoviz) (2.14.1)\n",
            "Requirement already satisfied: pyamg in /usr/local/lib/python3.11/dist-packages (from autoviz) (5.2.1)\n",
            "Requirement already satisfied: scikit-learn in /usr/local/lib/python3.11/dist-packages (from autoviz) (1.6.1)\n",
            "Requirement already satisfied: statsmodels in /usr/local/lib/python3.11/dist-packages (from autoviz) (0.14.5)\n",
            "Requirement already satisfied: nltk in /usr/local/lib/python3.11/dist-packages (from autoviz) (3.9.1)\n",
            "Requirement already satisfied: textblob in /usr/local/lib/python3.11/dist-packages (from autoviz) (0.19.0)\n",
            "Requirement already satisfied: xgboost<1.7,>=0.82 in /usr/local/lib/python3.11/dist-packages (from autoviz) (1.6.2)\n",
            "Requirement already satisfied: fsspec>=0.8.3 in /usr/local/lib/python3.11/dist-packages (from autoviz) (2025.3.2)\n",
            "Requirement already satisfied: typing-extensions>=4.1.1 in /usr/local/lib/python3.11/dist-packages (from autoviz) (4.14.1)\n",
            "Requirement already satisfied: pandas-dq>=1.29 in /usr/local/lib/python3.11/dist-packages (from autoviz) (1.29)\n",
            "Requirement already satisfied: numpy>=1.24.0 in /usr/local/lib/python3.11/dist-packages (from autoviz) (2.0.2)\n",
            "Requirement already satisfied: hvplot>=0.9.2 in /usr/local/lib/python3.11/dist-packages (from autoviz) (0.11.3)\n",
            "Requirement already satisfied: holoviews>=1.16.0 in /usr/local/lib/python3.11/dist-packages (from autoviz) (1.21.0)\n",
            "Requirement already satisfied: panel>=1.4.0 in /usr/local/lib/python3.11/dist-packages (from autoviz) (1.7.4)\n",
            "Requirement already satisfied: pandas>=2.0 in /usr/local/lib/python3.11/dist-packages (from autoviz) (2.2.2)\n",
            "Requirement already satisfied: matplotlib>3.7.4 in /usr/local/lib/python3.11/dist-packages (from autoviz) (3.10.0)\n",
            "Requirement already satisfied: seaborn>0.12.2 in /usr/local/lib/python3.11/dist-packages (from autoviz) (0.13.2)\n",
            "Requirement already satisfied: bokeh>=3.1 in /usr/local/lib/python3.11/dist-packages (from holoviews>=1.16.0->autoviz) (3.7.3)\n",
            "Requirement already satisfied: colorcet in /usr/local/lib/python3.11/dist-packages (from holoviews>=1.16.0->autoviz) (3.1.0)\n",
            "Requirement already satisfied: packaging in /usr/local/lib/python3.11/dist-packages (from holoviews>=1.16.0->autoviz) (25.0)\n",
            "Requirement already satisfied: param<3.0,>=2.0 in /usr/local/lib/python3.11/dist-packages (from holoviews>=1.16.0->autoviz) (2.2.1)\n",
            "Requirement already satisfied: pyviz-comms>=2.1 in /usr/local/lib/python3.11/dist-packages (from holoviews>=1.16.0->autoviz) (3.0.6)\n",
            "Requirement already satisfied: contourpy>=1.0.1 in /usr/local/lib/python3.11/dist-packages (from matplotlib>3.7.4->autoviz) (1.3.2)\n",
            "Requirement already satisfied: cycler>=0.10 in /usr/local/lib/python3.11/dist-packages (from matplotlib>3.7.4->autoviz) (0.12.1)\n",
            "Requirement already satisfied: fonttools>=4.22.0 in /usr/local/lib/python3.11/dist-packages (from matplotlib>3.7.4->autoviz) (4.58.5)\n",
            "Requirement already satisfied: kiwisolver>=1.3.1 in /usr/local/lib/python3.11/dist-packages (from matplotlib>3.7.4->autoviz) (1.4.8)\n",
            "Requirement already satisfied: pillow>=8 in /usr/local/lib/python3.11/dist-packages (from matplotlib>3.7.4->autoviz) (11.2.1)\n",
            "Requirement already satisfied: pyparsing>=2.3.1 in /usr/local/lib/python3.11/dist-packages (from matplotlib>3.7.4->autoviz) (3.2.3)\n",
            "Requirement already satisfied: python-dateutil>=2.7 in /usr/local/lib/python3.11/dist-packages (from matplotlib>3.7.4->autoviz) (2.9.0.post0)\n",
            "Requirement already satisfied: pytz>=2020.1 in /usr/local/lib/python3.11/dist-packages (from pandas>=2.0->autoviz) (2025.2)\n",
            "Requirement already satisfied: tzdata>=2022.7 in /usr/local/lib/python3.11/dist-packages (from pandas>=2.0->autoviz) (2025.2)\n",
            "Requirement already satisfied: bleach in /usr/local/lib/python3.11/dist-packages (from panel>=1.4.0->autoviz) (6.2.0)\n",
            "Requirement already satisfied: linkify-it-py in /usr/local/lib/python3.11/dist-packages (from panel>=1.4.0->autoviz) (2.0.3)\n",
            "Requirement already satisfied: markdown in /usr/local/lib/python3.11/dist-packages (from panel>=1.4.0->autoviz) (3.8.2)\n",
            "Requirement already satisfied: markdown-it-py in /usr/local/lib/python3.11/dist-packages (from panel>=1.4.0->autoviz) (3.0.0)\n",
            "Requirement already satisfied: mdit-py-plugins in /usr/local/lib/python3.11/dist-packages (from panel>=1.4.0->autoviz) (0.4.2)\n",
            "Requirement already satisfied: requests in /usr/local/lib/python3.11/dist-packages (from panel>=1.4.0->autoviz) (2.32.3)\n",
            "Requirement already satisfied: tqdm in /usr/local/lib/python3.11/dist-packages (from panel>=1.4.0->autoviz) (4.67.1)\n",
            "Requirement already satisfied: scipy>=1.6.0 in /usr/local/lib/python3.11/dist-packages (from scikit-learn->autoviz) (1.15.3)\n",
            "Requirement already satisfied: joblib>=1.2.0 in /usr/local/lib/python3.11/dist-packages (from scikit-learn->autoviz) (1.5.1)\n",
            "Requirement already satisfied: threadpoolctl>=3.1.0 in /usr/local/lib/python3.11/dist-packages (from scikit-learn->autoviz) (3.6.0)\n",
            "Requirement already satisfied: click in /usr/local/lib/python3.11/dist-packages (from nltk->autoviz) (8.2.1)\n",
            "Requirement already satisfied: regex>=2021.8.3 in /usr/local/lib/python3.11/dist-packages (from nltk->autoviz) (2024.11.6)\n",
            "Requirement already satisfied: patsy>=0.5.6 in /usr/local/lib/python3.11/dist-packages (from statsmodels->autoviz) (1.0.1)\n",
            "Requirement already satisfied: Jinja2>=2.9 in /usr/local/lib/python3.11/dist-packages (from bokeh>=3.1->holoviews>=1.16.0->autoviz) (3.1.6)\n",
            "Requirement already satisfied: narwhals>=1.13 in /usr/local/lib/python3.11/dist-packages (from bokeh>=3.1->holoviews>=1.16.0->autoviz) (1.47.0)\n",
            "Requirement already satisfied: PyYAML>=3.10 in /usr/local/lib/python3.11/dist-packages (from bokeh>=3.1->holoviews>=1.16.0->autoviz) (6.0.2)\n",
            "Requirement already satisfied: tornado>=6.2 in /usr/local/lib/python3.11/dist-packages (from bokeh>=3.1->holoviews>=1.16.0->autoviz) (6.4.2)\n",
            "Requirement already satisfied: xyzservices>=2021.09.1 in /usr/local/lib/python3.11/dist-packages (from bokeh>=3.1->holoviews>=1.16.0->autoviz) (2025.4.0)\n",
            "Requirement already satisfied: six>=1.5 in /usr/local/lib/python3.11/dist-packages (from python-dateutil>=2.7->matplotlib>3.7.4->autoviz) (1.17.0)\n",
            "Requirement already satisfied: webencodings in /usr/local/lib/python3.11/dist-packages (from bleach->panel>=1.4.0->autoviz) (0.5.1)\n",
            "Requirement already satisfied: uc-micro-py in /usr/local/lib/python3.11/dist-packages (from linkify-it-py->panel>=1.4.0->autoviz) (1.0.3)\n",
            "Requirement already satisfied: mdurl~=0.1 in /usr/local/lib/python3.11/dist-packages (from markdown-it-py->panel>=1.4.0->autoviz) (0.1.2)\n",
            "Requirement already satisfied: charset-normalizer<4,>=2 in /usr/local/lib/python3.11/dist-packages (from requests->panel>=1.4.0->autoviz) (3.4.2)\n",
            "Requirement already satisfied: idna<4,>=2.5 in /usr/local/lib/python3.11/dist-packages (from requests->panel>=1.4.0->autoviz) (3.10)\n",
            "Requirement already satisfied: urllib3<3,>=1.21.1 in /usr/local/lib/python3.11/dist-packages (from requests->panel>=1.4.0->autoviz) (2.4.0)\n",
            "Requirement already satisfied: certifi>=2017.4.17 in /usr/local/lib/python3.11/dist-packages (from requests->panel>=1.4.0->autoviz) (2025.7.14)\n",
            "Requirement already satisfied: MarkupSafe>=2.0 in /usr/local/lib/python3.11/dist-packages (from Jinja2>=2.9->bokeh>=3.1->holoviews>=1.16.0->autoviz) (3.0.2)\n",
            "Requirement already satisfied: opendatasets in /usr/local/lib/python3.11/dist-packages (0.1.22)\n",
            "Requirement already satisfied: tqdm in /usr/local/lib/python3.11/dist-packages (from opendatasets) (4.67.1)\n",
            "Requirement already satisfied: kaggle in /usr/local/lib/python3.11/dist-packages (from opendatasets) (1.7.4.5)\n",
            "Requirement already satisfied: click in /usr/local/lib/python3.11/dist-packages (from opendatasets) (8.2.1)\n",
            "Requirement already satisfied: bleach in /usr/local/lib/python3.11/dist-packages (from kaggle->opendatasets) (6.2.0)\n",
            "Requirement already satisfied: certifi>=14.05.14 in /usr/local/lib/python3.11/dist-packages (from kaggle->opendatasets) (2025.7.14)\n",
            "Requirement already satisfied: charset-normalizer in /usr/local/lib/python3.11/dist-packages (from kaggle->opendatasets) (3.4.2)\n",
            "Requirement already satisfied: idna in /usr/local/lib/python3.11/dist-packages (from kaggle->opendatasets) (3.10)\n",
            "Requirement already satisfied: protobuf in /usr/local/lib/python3.11/dist-packages (from kaggle->opendatasets) (5.29.5)\n",
            "Requirement already satisfied: python-dateutil>=2.5.3 in /usr/local/lib/python3.11/dist-packages (from kaggle->opendatasets) (2.9.0.post0)\n",
            "Requirement already satisfied: python-slugify in /usr/local/lib/python3.11/dist-packages (from kaggle->opendatasets) (8.0.4)\n",
            "Requirement already satisfied: requests in /usr/local/lib/python3.11/dist-packages (from kaggle->opendatasets) (2.32.3)\n",
            "Requirement already satisfied: setuptools>=21.0.0 in /usr/local/lib/python3.11/dist-packages (from kaggle->opendatasets) (75.2.0)\n",
            "Requirement already satisfied: six>=1.10 in /usr/local/lib/python3.11/dist-packages (from kaggle->opendatasets) (1.17.0)\n",
            "Requirement already satisfied: text-unidecode in /usr/local/lib/python3.11/dist-packages (from kaggle->opendatasets) (1.3)\n",
            "Requirement already satisfied: urllib3>=1.15.1 in /usr/local/lib/python3.11/dist-packages (from kaggle->opendatasets) (2.4.0)\n",
            "Requirement already satisfied: webencodings in /usr/local/lib/python3.11/dist-packages (from kaggle->opendatasets) (0.5.1)\n"
          ]
        }
      ],
      "source": [
        "# 1. Instalación de librerías necesarias\n",
        "!pip install kaggle\n",
        "!pip install autoviz\n",
        "!pip install opendatasets\n",
        "\n",
        "# 2. Importación de librerías\n",
        "from google.colab import files\n",
        "import pandas as pd\n",
        "import numpy as np\n",
        "import seaborn as sns\n",
        "import matplotlib.pyplot as plt\n",
        "from autoviz.AutoViz_Class import AutoViz_Class\n",
        "from google.colab import drive\n",
        "import os\n",
        "import opendatasets as od # Import the opendatasets library and assign it to the alias 'od'\n",
        "\n",
        "import seaborn as sns\n",
        "import matplotlib.pyplot as plt\n",
        "from sklearn.tree import DecisionTreeClassifier, plot_tree\n",
        "from sklearn.model_selection import train_test_split\n",
        "from sklearn.metrics import accuracy_score, confusion_matrix\n"
      ]
    },
    {
      "cell_type": "code",
      "source": [
        "od.download(\"https://www.kaggle.com/datasets/shijo96john/stress-level-prediction\")\n",
        "dataset_path = \"/content/stress-level-prediction\" # Corrected dataset path\n",
        "print(\"Archivos descargados:\")\n",
        "print(os.listdir(dataset_path))\n",
        "\n",
        "# Construye la ruta completa al archivo CSV\n",
        "csv_file_path = os.path.join(dataset_path, \"stress_detection_data.csv\")\n",
        "print(csv_file_path)\n",
        "\n",
        "# Carga el archivo CSV usando la ruta correcta\n",
        "try:\n",
        "    titanic= pd.read_csv(csv_file_path)\n",
        "    print(\"Muy bien: tus emociones y tu dataset han sido validados :)\")\n",
        "except FileNotFoundError:\n",
        "    print(f\"No se encontró el archivo CSV en la ruta: {csv_file_path}\")\n",
        "    print(\"Asegúrate de que el archivo 'Stress_detection_data.csv' exists inside the folder '/content/stress-level-prediction'.\")"
      ],
      "metadata": {
        "id": "M0VC0Ad4fcjj",
        "colab": {
          "base_uri": "https://localhost:8080/"
        },
        "outputId": "932e8379-090c-47f1-ec2b-dd532a7d4a0f"
      },
      "execution_count": 10,
      "outputs": [
        {
          "output_type": "stream",
          "name": "stdout",
          "text": [
            "Skipping, found downloaded files in \"./stress-level-prediction\" (use force=True to force download)\n",
            "Archivos descargados:\n",
            "['stress_detection_data.csv']\n",
            "/content/stress-level-prediction/stress_detection_data.csv\n",
            "Muy bien: tus emociones y tu dataset han sido validados :)\n"
          ]
        }
      ]
    },
    {
      "cell_type": "code",
      "source": [
        "import pandas as pd\n",
        "\n",
        "# Cargar el dataset\n",
        "df = pd.read_csv('./stress-level-prediction/stress_detection_data.csv')\n",
        "\n",
        "traduccion_columnas = {\n",
        "    'Sleep_Duration': 'Duracion_sueño',\n",
        "    'Sleep_Quality': 'Calidad_sueño',\n",
        "    'Physical_Activity': 'Actividad_fisica',\n",
        "    'Screen_Time': 'Horas_pantalla',\n",
        "    'Work_Hours': 'Horas_trabajo',\n",
        "    'Travel_Time': 'Tiempo_desplazamiento',\n",
        "    'Social_Interactions': 'Interacciones_sociales',\n",
        "    'Meditation_Practice': 'Meditacion',\n",
        "    'Caffeine_Intake': 'Consumo_Cafeína',\n",
        "    'Alcohol_Intake': 'Consumo_Alcohol',\n",
        "    'Smoking_Habit': 'Habito_fumar',\n",
        "    'Stress_Detection': 'Nivel_estrés'\n",
        "}\n",
        "\n",
        "# Traducir columnas\n",
        "df_es = df.rename(columns=traduccion_columnas)\n",
        "\n",
        "# Seleccionar solo las variables traducidas\n",
        "vars_es = list(traduccion_columnas.values())\n",
        "df_final = df_es[vars_es]\n",
        "\n",
        "# Mostrar resultados\n",
        "print(\"=== Primeras 5 filas ===\")\n",
        "display(df_final.head())\n",
        "\n",
        "print(\"\\n=== Tipos de datos ===\")\n",
        "print(df_final.dtypes)\n",
        "\n",
        "print(\"\\n=== Distribución de estrés =====\")\n",
        "print(df_final['Nivel_estrés'].value_counts())"
      ],
      "metadata": {
        "colab": {
          "base_uri": "https://localhost:8080/",
          "height": 660
        },
        "id": "YBNQA_ivjtsx",
        "outputId": "53513513-cf28-4bc1-c24f-1227ce105aeb"
      },
      "execution_count": 11,
      "outputs": [
        {
          "output_type": "stream",
          "name": "stdout",
          "text": [
            "=== Primeras 5 filas ===\n"
          ]
        },
        {
          "output_type": "display_data",
          "data": {
            "text/plain": [
              "   Duracion_sueño  Calidad_sueño  Actividad_fisica  Horas_pantalla  \\\n",
              "0        7.0            4.0              2.0              4.0        \n",
              "1        6.0            3.0              1.0              3.0        \n",
              "2        7.0            4.0              2.0              4.0        \n",
              "3        7.0            4.0              2.0              4.0        \n",
              "4        8.0            5.0              3.0              2.0        \n",
              "\n",
              "   Horas_trabajo  Tiempo_desplazamiento  Interacciones_sociales Meditacion  \\\n",
              "0        8                 1.0                      5               Yes      \n",
              "1        9                 2.0                      3                No      \n",
              "2        8                 1.0                      5               Yes      \n",
              "3        8                 1.0                      5               Yes      \n",
              "4        7                 1.0                      4               Yes      \n",
              "\n",
              "   Consumo_Cafeína  Consumo_Alcohol Habito_fumar Nivel_estrés  \n",
              "0         1                0             No            Low     \n",
              "1         0                1             No         Medium     \n",
              "2         1                0             No           High     \n",
              "3         1                0             No            Low     \n",
              "4         1                0             No            Low     "
            ],
            "text/html": [
              "\n",
              "  <div id=\"df-88a9aa40-0d63-4ad4-9817-96dfd220e6dc\" class=\"colab-df-container\">\n",
              "    <div>\n",
              "<style scoped>\n",
              "    .dataframe tbody tr th:only-of-type {\n",
              "        vertical-align: middle;\n",
              "    }\n",
              "\n",
              "    .dataframe tbody tr th {\n",
              "        vertical-align: top;\n",
              "    }\n",
              "\n",
              "    .dataframe thead th {\n",
              "        text-align: right;\n",
              "    }\n",
              "</style>\n",
              "<table border=\"1\" class=\"dataframe\">\n",
              "  <thead>\n",
              "    <tr style=\"text-align: center;\">\n",
              "      <th></th>\n",
              "      <th>Duracion_sueño</th>\n",
              "      <th>Calidad_sueño</th>\n",
              "      <th>Actividad_fisica</th>\n",
              "      <th>Horas_pantalla</th>\n",
              "      <th>Horas_trabajo</th>\n",
              "      <th>Tiempo_desplazamiento</th>\n",
              "      <th>Interacciones_sociales</th>\n",
              "      <th>Meditacion</th>\n",
              "      <th>Consumo_Cafeína</th>\n",
              "      <th>Consumo_Alcohol</th>\n",
              "      <th>Habito_fumar</th>\n",
              "      <th>Nivel_estrés</th>\n",
              "    </tr>\n",
              "  </thead>\n",
              "  <tbody>\n",
              "    <tr>\n",
              "      <th>0</th>\n",
              "      <td>7.0</td>\n",
              "      <td>4.0</td>\n",
              "      <td>2.0</td>\n",
              "      <td>4.0</td>\n",
              "      <td>8</td>\n",
              "      <td>1.0</td>\n",
              "      <td>5</td>\n",
              "      <td>Yes</td>\n",
              "      <td>1</td>\n",
              "      <td>0</td>\n",
              "      <td>No</td>\n",
              "      <td>Low</td>\n",
              "    </tr>\n",
              "    <tr>\n",
              "      <th>1</th>\n",
              "      <td>6.0</td>\n",
              "      <td>3.0</td>\n",
              "      <td>1.0</td>\n",
              "      <td>3.0</td>\n",
              "      <td>9</td>\n",
              "      <td>2.0</td>\n",
              "      <td>3</td>\n",
              "      <td>No</td>\n",
              "      <td>0</td>\n",
              "      <td>1</td>\n",
              "      <td>No</td>\n",
              "      <td>Medium</td>\n",
              "    </tr>\n",
              "    <tr>\n",
              "      <th>2</th>\n",
              "      <td>7.0</td>\n",
              "      <td>4.0</td>\n",
              "      <td>2.0</td>\n",
              "      <td>4.0</td>\n",
              "      <td>8</td>\n",
              "      <td>1.0</td>\n",
              "      <td>5</td>\n",
              "      <td>Yes</td>\n",
              "      <td>1</td>\n",
              "      <td>0</td>\n",
              "      <td>No</td>\n",
              "      <td>High</td>\n",
              "    </tr>\n",
              "    <tr>\n",
              "      <th>3</th>\n",
              "      <td>7.0</td>\n",
              "      <td>4.0</td>\n",
              "      <td>2.0</td>\n",
              "      <td>4.0</td>\n",
              "      <td>8</td>\n",
              "      <td>1.0</td>\n",
              "      <td>5</td>\n",
              "      <td>Yes</td>\n",
              "      <td>1</td>\n",
              "      <td>0</td>\n",
              "      <td>No</td>\n",
              "      <td>Low</td>\n",
              "    </tr>\n",
              "    <tr>\n",
              "      <th>4</th>\n",
              "      <td>8.0</td>\n",
              "      <td>5.0</td>\n",
              "      <td>3.0</td>\n",
              "      <td>2.0</td>\n",
              "      <td>7</td>\n",
              "      <td>1.0</td>\n",
              "      <td>4</td>\n",
              "      <td>Yes</td>\n",
              "      <td>1</td>\n",
              "      <td>0</td>\n",
              "      <td>No</td>\n",
              "      <td>Low</td>\n",
              "    </tr>\n",
              "  </tbody>\n",
              "</table>\n",
              "</div>\n",
              "    <div class=\"colab-df-buttons\">\n",
              "\n",
              "  <div class=\"colab-df-container\">\n",
              "    <button class=\"colab-df-convert\" onclick=\"convertToInteractive('df-88a9aa40-0d63-4ad4-9817-96dfd220e6dc')\"\n",
              "            title=\"Convert this dataframe to an interactive table.\"\n",
              "            style=\"display:none;\">\n",
              "\n",
              "  <svg xmlns=\"http://www.w3.org/2000/svg\" height=\"24px\" viewBox=\"0 -960 960 960\">\n",
              "    <path d=\"M120-120v-720h720v720H120Zm60-500h600v-160H180v160Zm220 220h160v-160H400v160Zm0 220h160v-160H400v160ZM180-400h160v-160H180v160Zm440 0h160v-160H620v160ZM180-180h160v-160H180v160Zm440 0h160v-160H620v160Z\"/>\n",
              "  </svg>\n",
              "    </button>\n",
              "\n",
              "  <style>\n",
              "    .colab-df-container {\n",
              "      display:flex;\n",
              "      gap: 12px;\n",
              "    }\n",
              "\n",
              "    .colab-df-convert {\n",
              "      background-color: #E8F0FE;\n",
              "      border: none;\n",
              "      border-radius: 50%;\n",
              "      cursor: pointer;\n",
              "      display: none;\n",
              "      fill: #1967D2;\n",
              "      height: 32px;\n",
              "      padding: 0 0 0 0;\n",
              "      width: 32px;\n",
              "    }\n",
              "\n",
              "    .colab-df-convert:hover {\n",
              "      background-color: #E2EBFA;\n",
              "      box-shadow: 0px 1px 2px rgba(60, 64, 67, 0.3), 0px 1px 3px 1px rgba(60, 64, 67, 0.15);\n",
              "      fill: #174EA6;\n",
              "    }\n",
              "\n",
              "    .colab-df-buttons div {\n",
              "      margin-bottom: 4px;\n",
              "    }\n",
              "\n",
              "    [theme=dark] .colab-df-convert {\n",
              "      background-color: #3B4455;\n",
              "      fill: #D2E3FC;\n",
              "    }\n",
              "\n",
              "    [theme=dark] .colab-df-convert:hover {\n",
              "      background-color: #434B5C;\n",
              "      box-shadow: 0px 1px 3px 1px rgba(0, 0, 0, 0.15);\n",
              "      filter: drop-shadow(0px 1px 2px rgba(0, 0, 0, 0.3));\n",
              "      fill: #FFFFFF;\n",
              "    }\n",
              "  </style>\n",
              "\n",
              "    <script>\n",
              "      const buttonEl =\n",
              "        document.querySelector('#df-88a9aa40-0d63-4ad4-9817-96dfd220e6dc button.colab-df-convert');\n",
              "      buttonEl.style.display =\n",
              "        google.colab.kernel.accessAllowed ? 'block' : 'none';\n",
              "\n",
              "      async function convertToInteractive(key) {\n",
              "        const element = document.querySelector('#df-88a9aa40-0d63-4ad4-9817-96dfd220e6dc');\n",
              "        const dataTable =\n",
              "          await google.colab.kernel.invokeFunction('convertToInteractive',\n",
              "                                                    [key], {});\n",
              "        if (!dataTable) return;\n",
              "\n",
              "        const docLinkHtml = 'Like what you see? Visit the ' +\n",
              "          '<a target=\"_blank\" href=https://colab.research.google.com/notebooks/data_table.ipynb>data table notebook</a>'\n",
              "          + ' to learn more about interactive tables.';\n",
              "        element.innerHTML = '';\n",
              "        dataTable['output_type'] = 'display_data';\n",
              "        await google.colab.output.renderOutput(dataTable, element);\n",
              "        const docLink = document.createElement('div');\n",
              "        docLink.innerHTML = docLinkHtml;\n",
              "        element.appendChild(docLink);\n",
              "      }\n",
              "    </script>\n",
              "  </div>\n",
              "\n",
              "\n",
              "    <div id=\"df-ea57ffd9-b0fe-4f4e-b055-e09f5424e6f6\">\n",
              "      <button class=\"colab-df-quickchart\" onclick=\"quickchart('df-ea57ffd9-b0fe-4f4e-b055-e09f5424e6f6')\"\n",
              "                title=\"Suggest charts\"\n",
              "                style=\"display:none;\">\n",
              "\n",
              "<svg xmlns=\"http://www.w3.org/2000/svg\" height=\"24px\"viewBox=\"0 0 24 24\"\n",
              "     width=\"24px\">\n",
              "    <g>\n",
              "        <path d=\"M19 3H5c-1.1 0-2 .9-2 2v14c0 1.1.9 2 2 2h14c1.1 0 2-.9 2-2V5c0-1.1-.9-2-2-2zM9 17H7v-7h2v7zm4 0h-2V7h2v10zm4 0h-2v-4h2v4z\"/>\n",
              "    </g>\n",
              "</svg>\n",
              "      </button>\n",
              "\n",
              "<style>\n",
              "  .colab-df-quickchart {\n",
              "      --bg-color: #E8F0FE;\n",
              "      --fill-color: #1967D2;\n",
              "      --hover-bg-color: #E2EBFA;\n",
              "      --hover-fill-color: #174EA6;\n",
              "      --disabled-fill-color: #AAA;\n",
              "      --disabled-bg-color: #DDD;\n",
              "  }\n",
              "\n",
              "  [theme=dark] .colab-df-quickchart {\n",
              "      --bg-color: #3B4455;\n",
              "      --fill-color: #D2E3FC;\n",
              "      --hover-bg-color: #434B5C;\n",
              "      --hover-fill-color: #FFFFFF;\n",
              "      --disabled-bg-color: #3B4455;\n",
              "      --disabled-fill-color: #666;\n",
              "  }\n",
              "\n",
              "  .colab-df-quickchart {\n",
              "    background-color: var(--bg-color);\n",
              "    border: none;\n",
              "    border-radius: 50%;\n",
              "    cursor: pointer;\n",
              "    display: none;\n",
              "    fill: var(--fill-color);\n",
              "    height: 32px;\n",
              "    padding: 0;\n",
              "    width: 32px;\n",
              "  }\n",
              "\n",
              "  .colab-df-quickchart:hover {\n",
              "    background-color: var(--hover-bg-color);\n",
              "    box-shadow: 0 1px 2px rgba(60, 64, 67, 0.3), 0 1px 3px 1px rgba(60, 64, 67, 0.15);\n",
              "    fill: var(--button-hover-fill-color);\n",
              "  }\n",
              "\n",
              "  .colab-df-quickchart-complete:disabled,\n",
              "  .colab-df-quickchart-complete:disabled:hover {\n",
              "    background-color: var(--disabled-bg-color);\n",
              "    fill: var(--disabled-fill-color);\n",
              "    box-shadow: none;\n",
              "  }\n",
              "\n",
              "  .colab-df-spinner {\n",
              "    border: 2px solid var(--fill-color);\n",
              "    border-color: transparent;\n",
              "    border-bottom-color: var(--fill-color);\n",
              "    animation:\n",
              "      spin 1s steps(1) infinite;\n",
              "  }\n",
              "\n",
              "  @keyframes spin {\n",
              "    0% {\n",
              "      border-color: transparent;\n",
              "      border-bottom-color: var(--fill-color);\n",
              "      border-left-color: var(--fill-color);\n",
              "    }\n",
              "    20% {\n",
              "      border-color: transparent;\n",
              "      border-left-color: var(--fill-color);\n",
              "      border-top-color: var(--fill-color);\n",
              "    }\n",
              "    30% {\n",
              "      border-color: transparent;\n",
              "      border-left-color: var(--fill-color);\n",
              "      border-top-color: var(--fill-color);\n",
              "      border-right-color: var(--fill-color);\n",
              "    }\n",
              "    40% {\n",
              "      border-color: transparent;\n",
              "      border-right-color: var(--fill-color);\n",
              "      border-top-color: var(--fill-color);\n",
              "    }\n",
              "    60% {\n",
              "      border-color: transparent;\n",
              "      border-right-color: var(--fill-color);\n",
              "    }\n",
              "    80% {\n",
              "      border-color: transparent;\n",
              "      border-right-color: var(--fill-color);\n",
              "      border-bottom-color: var(--fill-color);\n",
              "    }\n",
              "    90% {\n",
              "      border-color: transparent;\n",
              "      border-bottom-color: var(--fill-color);\n",
              "    }\n",
              "  }\n",
              "</style>\n",
              "\n",
              "      <script>\n",
              "        async function quickchart(key) {\n",
              "          const quickchartButtonEl =\n",
              "            document.querySelector('#' + key + ' button');\n",
              "          quickchartButtonEl.disabled = true;  // To prevent multiple clicks.\n",
              "          quickchartButtonEl.classList.add('colab-df-spinner');\n",
              "          try {\n",
              "            const charts = await google.colab.kernel.invokeFunction(\n",
              "                'suggestCharts', [key], {});\n",
              "          } catch (error) {\n",
              "            console.error('Error during call to suggestCharts:', error);\n",
              "          }\n",
              "          quickchartButtonEl.classList.remove('colab-df-spinner');\n",
              "          quickchartButtonEl.classList.add('colab-df-quickchart-complete');\n",
              "        }\n",
              "        (() => {\n",
              "          let quickchartButtonEl =\n",
              "            document.querySelector('#df-ea57ffd9-b0fe-4f4e-b055-e09f5424e6f6 button');\n",
              "          quickchartButtonEl.style.display =\n",
              "            google.colab.kernel.accessAllowed ? 'block' : 'none';\n",
              "        })();\n",
              "      </script>\n",
              "    </div>\n",
              "\n",
              "    </div>\n",
              "  </div>\n"
            ],
            "application/vnd.google.colaboratory.intrinsic+json": {
              "type": "dataframe",
              "summary": "{\n  \"name\": \"print(df_final['Nivel_estr\\u00e9s']\",\n  \"rows\": 5,\n  \"fields\": [\n    {\n      \"column\": \"Duracion_sue\\u00f1o\",\n      \"properties\": {\n        \"dtype\": \"number\",\n        \"std\": 0.7071067811865476,\n        \"min\": 6.0,\n        \"max\": 8.0,\n        \"num_unique_values\": 3,\n        \"samples\": [\n          7.0,\n          6.0,\n          8.0\n        ],\n        \"semantic_type\": \"\",\n        \"description\": \"\"\n      }\n    },\n    {\n      \"column\": \"Calidad_sue\\u00f1o\",\n      \"properties\": {\n        \"dtype\": \"number\",\n        \"std\": 0.7071067811865476,\n        \"min\": 3.0,\n        \"max\": 5.0,\n        \"num_unique_values\": 3,\n        \"samples\": [\n          4.0,\n          3.0,\n          5.0\n        ],\n        \"semantic_type\": \"\",\n        \"description\": \"\"\n      }\n    },\n    {\n      \"column\": \"Actividad_fisica\",\n      \"properties\": {\n        \"dtype\": \"number\",\n        \"std\": 0.7071067811865476,\n        \"min\": 1.0,\n        \"max\": 3.0,\n        \"num_unique_values\": 3,\n        \"samples\": [\n          2.0,\n          1.0,\n          3.0\n        ],\n        \"semantic_type\": \"\",\n        \"description\": \"\"\n      }\n    },\n    {\n      \"column\": \"Horas_pantalla\",\n      \"properties\": {\n        \"dtype\": \"number\",\n        \"std\": 0.8944271909999159,\n        \"min\": 2.0,\n        \"max\": 4.0,\n        \"num_unique_values\": 3,\n        \"samples\": [\n          4.0,\n          3.0,\n          2.0\n        ],\n        \"semantic_type\": \"\",\n        \"description\": \"\"\n      }\n    },\n    {\n      \"column\": \"Horas_trabajo\",\n      \"properties\": {\n        \"dtype\": \"number\",\n        \"std\": 0,\n        \"min\": 7,\n        \"max\": 9,\n        \"num_unique_values\": 3,\n        \"samples\": [\n          8,\n          9,\n          7\n        ],\n        \"semantic_type\": \"\",\n        \"description\": \"\"\n      }\n    },\n    {\n      \"column\": \"Tiempo_desplazamiento\",\n      \"properties\": {\n        \"dtype\": \"number\",\n        \"std\": 0.44721359549995804,\n        \"min\": 1.0,\n        \"max\": 2.0,\n        \"num_unique_values\": 2,\n        \"samples\": [\n          2.0,\n          1.0\n        ],\n        \"semantic_type\": \"\",\n        \"description\": \"\"\n      }\n    },\n    {\n      \"column\": \"Interacciones_sociales\",\n      \"properties\": {\n        \"dtype\": \"number\",\n        \"std\": 0,\n        \"min\": 3,\n        \"max\": 5,\n        \"num_unique_values\": 3,\n        \"samples\": [\n          5,\n          3\n        ],\n        \"semantic_type\": \"\",\n        \"description\": \"\"\n      }\n    },\n    {\n      \"column\": \"Meditacion\",\n      \"properties\": {\n        \"dtype\": \"category\",\n        \"num_unique_values\": 2,\n        \"samples\": [\n          \"No\",\n          \"Yes\"\n        ],\n        \"semantic_type\": \"\",\n        \"description\": \"\"\n      }\n    },\n    {\n      \"column\": \"Consumo_Cafe\\u00edna\",\n      \"properties\": {\n        \"dtype\": \"number\",\n        \"std\": 0,\n        \"min\": 0,\n        \"max\": 1,\n        \"num_unique_values\": 2,\n        \"samples\": [\n          0,\n          1\n        ],\n        \"semantic_type\": \"\",\n        \"description\": \"\"\n      }\n    },\n    {\n      \"column\": \"Consumo_Alcohol\",\n      \"properties\": {\n        \"dtype\": \"number\",\n        \"std\": 0,\n        \"min\": 0,\n        \"max\": 1,\n        \"num_unique_values\": 2,\n        \"samples\": [\n          1,\n          0\n        ],\n        \"semantic_type\": \"\",\n        \"description\": \"\"\n      }\n    },\n    {\n      \"column\": \"Habito_fumar\",\n      \"properties\": {\n        \"dtype\": \"category\",\n        \"num_unique_values\": 1,\n        \"samples\": [\n          \"No\"\n        ],\n        \"semantic_type\": \"\",\n        \"description\": \"\"\n      }\n    },\n    {\n      \"column\": \"Nivel_estr\\u00e9s\",\n      \"properties\": {\n        \"dtype\": \"string\",\n        \"num_unique_values\": 3,\n        \"samples\": [\n          \"Low\"\n        ],\n        \"semantic_type\": \"\",\n        \"description\": \"\"\n      }\n    }\n  ]\n}"
            }
          },
          "metadata": {}
        },
        {
          "output_type": "stream",
          "name": "stdout",
          "text": [
            "\n",
            "=== Tipos de datos ===\n",
            "Duracion_sueño            float64\n",
            "Calidad_sueño             float64\n",
            "Actividad_fisica          float64\n",
            "Horas_pantalla            float64\n",
            "Horas_trabajo               int64\n",
            "Tiempo_desplazamiento     float64\n",
            "Interacciones_sociales      int64\n",
            "Meditacion                 object\n",
            "Consumo_Cafeína             int64\n",
            "Consumo_Alcohol             int64\n",
            "Habito_fumar               object\n",
            "Nivel_estrés               object\n",
            "dtype: object\n",
            "\n",
            "=== Distribución de estrés =====\n",
            "Nivel_estrés\n",
            "Medium    310\n",
            "High      301\n",
            "Low       162\n",
            "Name: count, dtype: int64\n"
          ]
        }
      ]
    },
    {
      "cell_type": "code",
      "source": [
        "df_final['Nivel_estrés'] = df_final['Nivel_estrés'].replace({\n",
        "    'Low': 'Bajo',\n",
        "    'Medium': 'Mediano',\n",
        "    'High': 'Alto'\n",
        "})\n",
        "\n",
        "print(df_final['Nivel_estrés'].value_counts())"
      ],
      "metadata": {
        "colab": {
          "base_uri": "https://localhost:8080/"
        },
        "id": "ey8XTC11lXuj",
        "outputId": "8bc66951-53f8-4a1b-cf93-bfdba973d75a"
      },
      "execution_count": 18,
      "outputs": [
        {
          "output_type": "stream",
          "name": "stdout",
          "text": [
            "Nivel_estrés\n",
            "Mediano    310\n",
            "Alto       301\n",
            "Bajo       162\n",
            "Name: count, dtype: int64\n"
          ]
        }
      ]
    },
    {
      "cell_type": "markdown",
      "source": [
        "**Información del dataset**\n",
        "\n",
        "- 22 columnas y 773 filas\n",
        "- No hay valores nulos\n",
        "\n",
        "**Variable objetivo:**\n",
        "\n",
        "- Variable categórica ordinal\n",
        "\n",
        "- \"Nivel_estrés\" con niveles \"Bajo\", \"Mediano\", \"Alto\""
      ],
      "metadata": {
        "id": "mL1YNnxmkhnI"
      }
    },
    {
      "cell_type": "markdown",
      "source": [
        "**Observaciones iniciales**\n",
        "\n",
        "- Cerca del 80% de la población estudiada presenta niveles de estrés medio o alto, lo que indica que es un problema de salud relevante en este grupo.\n",
        "\n",
        "- Los casos de estrés alto (301) y medio (310) son prácticamente equivalentes, con solo 9 casos de diferencia."
      ],
      "metadata": {
        "id": "BOwbFdXs1fjk"
      }
    },
    {
      "cell_type": "markdown",
      "source": [
        "## Descripción de las variables a utilizar\n",
        "\n"
      ],
      "metadata": {
        "id": "3ZrXr9rmrNiN"
      }
    },
    {
      "cell_type": "markdown",
      "source": [
        "| Variable            | Descripción                                                                                     |\n",
        "|---------------------|-------------------------------------------------------------------------------------------------|\n",
        "| Duracion_sueño      | Cantidad total de sueño que el individuo obtiene en promedio (en horas).                       |\n",
        "| Calidad_sueño    | Calidad del sueño autoinformada en una escala (por ejemplo, 1-5).                              |\n",
        "| Actividad_fisica   | Frecuencia de actividad física (por ejemplo, número de días/semana o una puntuación).          |\n",
        "| Horas_pantalla         | Número promedio de horas dedicadas a pantallas electrónicas por día.                           |\n",
        "| Horas_trabajo         | Número de horas trabajadas por semana.                                                         |\n",
        "| Tiempo_desplazamiento        | Tiempo dedicado al desplazamiento (por ejemplo, en horas por día).                             |\n",
        "| Interacciones_sociales | Frecuencia de interacciones sociales (por ejemplo, número de eventos sociales a los que asiste).|\n",
        "| Meditacion | Si el individuo practica meditación (Sí/No).                                                   |\n",
        "| Consumo_Cafeína     | Cantidad promedio de cafeína consumida (por ejemplo, tazas de café).                           |\n",
        "| Consumo_Alcohol      | Cantidad promedio de alcohol consumido (por ejemplo, número de bebidas por semana).            |\n",
        "| Habito_fumar       | Si el individuo fuma (Sí/No).                                                                  |\n",
        "| Nivel_estrés    | Clasificación o indicador del nivel de estrés del individuo (por ejemplo, Alto, Medio, Bajo).  |"
      ],
      "metadata": {
        "id": "m0th-K0sjU1b"
      }
    },
    {
      "cell_type": "markdown",
      "source": [
        "--------------------------------------------------------------------------------"
      ],
      "metadata": {
        "id": "3odUkdS-DNVZ"
      }
    },
    {
      "cell_type": "code",
      "source": [
        "print(\"\\nResumen estadístico:\")\n",
        "display(df_final.describe().T)"
      ],
      "metadata": {
        "id": "WLn8JochkbpV",
        "colab": {
          "base_uri": "https://localhost:8080/",
          "height": 366
        },
        "outputId": "84310b74-3aba-459d-a94d-e0c645f03a50"
      },
      "execution_count": null,
      "outputs": [
        {
          "output_type": "stream",
          "name": "stdout",
          "text": [
            "\n",
            "Resumen estadístico:\n"
          ]
        },
        {
          "output_type": "display_data",
          "data": {
            "text/plain": [
              "                        count    mean       std    min  25%  50%  75%   max\n",
              "Duracion_sueño          773.0  6.338422  0.733584  3.5  6.0  6.3  7.0   8.0\n",
              "Calidad_sueño           773.0  3.848124  0.545459  2.0  3.6  3.9  4.0   5.0\n",
              "Actividad_fisica        773.0  2.979301  0.797234  1.0  2.0  3.0  4.0   5.0\n",
              "Horas_pantalla          773.0  4.105433  0.812513  2.0  4.0  4.0  5.0   8.0\n",
              "Horas_trabajo           773.0  8.258732  1.064168  6.0  8.0  8.0  9.0  14.0\n",
              "Tiempo_desplazamiento   773.0  2.858344  1.083758  0.5  2.0  3.0  4.0   5.0\n",
              "Interacciones_sociales  773.0  3.196636  0.856332  1.0  3.0  3.0  4.0   5.0\n",
              "Consumo_Cafeína         773.0  1.818887  0.838396  0.0  1.0  2.0  2.0   4.0\n",
              "Consumo_Alcohol         773.0  0.888745  0.673741  0.0  0.0  1.0  1.0   2.0"
            ],
            "text/html": [
              "\n",
              "  <div id=\"df-7b7ea117-a9e5-47ec-b60d-317f426a17c8\" class=\"colab-df-container\">\n",
              "    <div>\n",
              "<style scoped>\n",
              "    .dataframe tbody tr th:only-of-type {\n",
              "        vertical-align: middle;\n",
              "    }\n",
              "\n",
              "    .dataframe tbody tr th {\n",
              "        vertical-align: top;\n",
              "    }\n",
              "\n",
              "    .dataframe thead th {\n",
              "        text-align: right;\n",
              "    }\n",
              "</style>\n",
              "<table border=\"1\" class=\"dataframe\">\n",
              "  <thead>\n",
              "    <tr style=\"text-align: center;\">\n",
              "      <th></th>\n",
              "      <th>count</th>\n",
              "      <th>mean</th>\n",
              "      <th>std</th>\n",
              "      <th>min</th>\n",
              "      <th>25%</th>\n",
              "      <th>50%</th>\n",
              "      <th>75%</th>\n",
              "      <th>max</th>\n",
              "    </tr>\n",
              "  </thead>\n",
              "  <tbody>\n",
              "    <tr>\n",
              "      <th>Duracion_sueño</th>\n",
              "      <td>773.0</td>\n",
              "      <td>6.338422</td>\n",
              "      <td>0.733584</td>\n",
              "      <td>3.5</td>\n",
              "      <td>6.0</td>\n",
              "      <td>6.3</td>\n",
              "      <td>7.0</td>\n",
              "      <td>8.0</td>\n",
              "    </tr>\n",
              "    <tr>\n",
              "      <th>Calidad_sueño</th>\n",
              "      <td>773.0</td>\n",
              "      <td>3.848124</td>\n",
              "      <td>0.545459</td>\n",
              "      <td>2.0</td>\n",
              "      <td>3.6</td>\n",
              "      <td>3.9</td>\n",
              "      <td>4.0</td>\n",
              "      <td>5.0</td>\n",
              "    </tr>\n",
              "    <tr>\n",
              "      <th>Actividad_fisica</th>\n",
              "      <td>773.0</td>\n",
              "      <td>2.979301</td>\n",
              "      <td>0.797234</td>\n",
              "      <td>1.0</td>\n",
              "      <td>2.0</td>\n",
              "      <td>3.0</td>\n",
              "      <td>4.0</td>\n",
              "      <td>5.0</td>\n",
              "    </tr>\n",
              "    <tr>\n",
              "      <th>Horas_pantalla</th>\n",
              "      <td>773.0</td>\n",
              "      <td>4.105433</td>\n",
              "      <td>0.812513</td>\n",
              "      <td>2.0</td>\n",
              "      <td>4.0</td>\n",
              "      <td>4.0</td>\n",
              "      <td>5.0</td>\n",
              "      <td>8.0</td>\n",
              "    </tr>\n",
              "    <tr>\n",
              "      <th>Horas_trabajo</th>\n",
              "      <td>773.0</td>\n",
              "      <td>8.258732</td>\n",
              "      <td>1.064168</td>\n",
              "      <td>6.0</td>\n",
              "      <td>8.0</td>\n",
              "      <td>8.0</td>\n",
              "      <td>9.0</td>\n",
              "      <td>14.0</td>\n",
              "    </tr>\n",
              "    <tr>\n",
              "      <th>Tiempo_desplazamiento</th>\n",
              "      <td>773.0</td>\n",
              "      <td>2.858344</td>\n",
              "      <td>1.083758</td>\n",
              "      <td>0.5</td>\n",
              "      <td>2.0</td>\n",
              "      <td>3.0</td>\n",
              "      <td>4.0</td>\n",
              "      <td>5.0</td>\n",
              "    </tr>\n",
              "    <tr>\n",
              "      <th>Interacciones_sociales</th>\n",
              "      <td>773.0</td>\n",
              "      <td>3.196636</td>\n",
              "      <td>0.856332</td>\n",
              "      <td>1.0</td>\n",
              "      <td>3.0</td>\n",
              "      <td>3.0</td>\n",
              "      <td>4.0</td>\n",
              "      <td>5.0</td>\n",
              "    </tr>\n",
              "    <tr>\n",
              "      <th>Consumo_Cafeína</th>\n",
              "      <td>773.0</td>\n",
              "      <td>1.818887</td>\n",
              "      <td>0.838396</td>\n",
              "      <td>0.0</td>\n",
              "      <td>1.0</td>\n",
              "      <td>2.0</td>\n",
              "      <td>2.0</td>\n",
              "      <td>4.0</td>\n",
              "    </tr>\n",
              "    <tr>\n",
              "      <th>Consumo_Alcohol</th>\n",
              "      <td>773.0</td>\n",
              "      <td>0.888745</td>\n",
              "      <td>0.673741</td>\n",
              "      <td>0.0</td>\n",
              "      <td>0.0</td>\n",
              "      <td>1.0</td>\n",
              "      <td>1.0</td>\n",
              "      <td>2.0</td>\n",
              "    </tr>\n",
              "  </tbody>\n",
              "</table>\n",
              "</div>\n",
              "    <div class=\"colab-df-buttons\">\n",
              "\n",
              "  <div class=\"colab-df-container\">\n",
              "    <button class=\"colab-df-convert\" onclick=\"convertToInteractive('df-7b7ea117-a9e5-47ec-b60d-317f426a17c8')\"\n",
              "            title=\"Convert this dataframe to an interactive table.\"\n",
              "            style=\"display:none;\">\n",
              "\n",
              "  <svg xmlns=\"http://www.w3.org/2000/svg\" height=\"24px\" viewBox=\"0 -960 960 960\">\n",
              "    <path d=\"M120-120v-720h720v720H120Zm60-500h600v-160H180v160Zm220 220h160v-160H400v160Zm0 220h160v-160H400v160ZM180-400h160v-160H180v160Zm440 0h160v-160H620v160ZM180-180h160v-160H180v160Zm440 0h160v-160H620v160Z\"/>\n",
              "  </svg>\n",
              "    </button>\n",
              "\n",
              "  <style>\n",
              "    .colab-df-container {\n",
              "      display:flex;\n",
              "      gap: 12px;\n",
              "    }\n",
              "\n",
              "    .colab-df-convert {\n",
              "      background-color: #E8F0FE;\n",
              "      border: none;\n",
              "      border-radius: 50%;\n",
              "      cursor: pointer;\n",
              "      display: none;\n",
              "      fill: #1967D2;\n",
              "      height: 32px;\n",
              "      padding: 0 0 0 0;\n",
              "      width: 32px;\n",
              "    }\n",
              "\n",
              "    .colab-df-convert:hover {\n",
              "      background-color: #E2EBFA;\n",
              "      box-shadow: 0px 1px 2px rgba(60, 64, 67, 0.3), 0px 1px 3px 1px rgba(60, 64, 67, 0.15);\n",
              "      fill: #174EA6;\n",
              "    }\n",
              "\n",
              "    .colab-df-buttons div {\n",
              "      margin-bottom: 4px;\n",
              "    }\n",
              "\n",
              "    [theme=dark] .colab-df-convert {\n",
              "      background-color: #3B4455;\n",
              "      fill: #D2E3FC;\n",
              "    }\n",
              "\n",
              "    [theme=dark] .colab-df-convert:hover {\n",
              "      background-color: #434B5C;\n",
              "      box-shadow: 0px 1px 3px 1px rgba(0, 0, 0, 0.15);\n",
              "      filter: drop-shadow(0px 1px 2px rgba(0, 0, 0, 0.3));\n",
              "      fill: #FFFFFF;\n",
              "    }\n",
              "  </style>\n",
              "\n",
              "    <script>\n",
              "      const buttonEl =\n",
              "        document.querySelector('#df-7b7ea117-a9e5-47ec-b60d-317f426a17c8 button.colab-df-convert');\n",
              "      buttonEl.style.display =\n",
              "        google.colab.kernel.accessAllowed ? 'block' : 'none';\n",
              "\n",
              "      async function convertToInteractive(key) {\n",
              "        const element = document.querySelector('#df-7b7ea117-a9e5-47ec-b60d-317f426a17c8');\n",
              "        const dataTable =\n",
              "          await google.colab.kernel.invokeFunction('convertToInteractive',\n",
              "                                                    [key], {});\n",
              "        if (!dataTable) return;\n",
              "\n",
              "        const docLinkHtml = 'Like what you see? Visit the ' +\n",
              "          '<a target=\"_blank\" href=https://colab.research.google.com/notebooks/data_table.ipynb>data table notebook</a>'\n",
              "          + ' to learn more about interactive tables.';\n",
              "        element.innerHTML = '';\n",
              "        dataTable['output_type'] = 'display_data';\n",
              "        await google.colab.output.renderOutput(dataTable, element);\n",
              "        const docLink = document.createElement('div');\n",
              "        docLink.innerHTML = docLinkHtml;\n",
              "        element.appendChild(docLink);\n",
              "      }\n",
              "    </script>\n",
              "  </div>\n",
              "\n",
              "\n",
              "    <div id=\"df-d1b82e3c-1606-4b20-917c-879cc1ccbc18\">\n",
              "      <button class=\"colab-df-quickchart\" onclick=\"quickchart('df-d1b82e3c-1606-4b20-917c-879cc1ccbc18')\"\n",
              "                title=\"Suggest charts\"\n",
              "                style=\"display:none;\">\n",
              "\n",
              "<svg xmlns=\"http://www.w3.org/2000/svg\" height=\"24px\"viewBox=\"0 0 24 24\"\n",
              "     width=\"24px\">\n",
              "    <g>\n",
              "        <path d=\"M19 3H5c-1.1 0-2 .9-2 2v14c0 1.1.9 2 2 2h14c1.1 0 2-.9 2-2V5c0-1.1-.9-2-2-2zM9 17H7v-7h2v7zm4 0h-2V7h2v10zm4 0h-2v-4h2v4z\"/>\n",
              "    </g>\n",
              "</svg>\n",
              "      </button>\n",
              "\n",
              "<style>\n",
              "  .colab-df-quickchart {\n",
              "      --bg-color: #E8F0FE;\n",
              "      --fill-color: #1967D2;\n",
              "      --hover-bg-color: #E2EBFA;\n",
              "      --hover-fill-color: #174EA6;\n",
              "      --disabled-fill-color: #AAA;\n",
              "      --disabled-bg-color: #DDD;\n",
              "  }\n",
              "\n",
              "  [theme=dark] .colab-df-quickchart {\n",
              "      --bg-color: #3B4455;\n",
              "      --fill-color: #D2E3FC;\n",
              "      --hover-bg-color: #434B5C;\n",
              "      --hover-fill-color: #FFFFFF;\n",
              "      --disabled-bg-color: #3B4455;\n",
              "      --disabled-fill-color: #666;\n",
              "  }\n",
              "\n",
              "  .colab-df-quickchart {\n",
              "    background-color: var(--bg-color);\n",
              "    border: none;\n",
              "    border-radius: 50%;\n",
              "    cursor: pointer;\n",
              "    display: none;\n",
              "    fill: var(--fill-color);\n",
              "    height: 32px;\n",
              "    padding: 0;\n",
              "    width: 32px;\n",
              "  }\n",
              "\n",
              "  .colab-df-quickchart:hover {\n",
              "    background-color: var(--hover-bg-color);\n",
              "    box-shadow: 0 1px 2px rgba(60, 64, 67, 0.3), 0 1px 3px 1px rgba(60, 64, 67, 0.15);\n",
              "    fill: var(--button-hover-fill-color);\n",
              "  }\n",
              "\n",
              "  .colab-df-quickchart-complete:disabled,\n",
              "  .colab-df-quickchart-complete:disabled:hover {\n",
              "    background-color: var(--disabled-bg-color);\n",
              "    fill: var(--disabled-fill-color);\n",
              "    box-shadow: none;\n",
              "  }\n",
              "\n",
              "  .colab-df-spinner {\n",
              "    border: 2px solid var(--fill-color);\n",
              "    border-color: transparent;\n",
              "    border-bottom-color: var(--fill-color);\n",
              "    animation:\n",
              "      spin 1s steps(1) infinite;\n",
              "  }\n",
              "\n",
              "  @keyframes spin {\n",
              "    0% {\n",
              "      border-color: transparent;\n",
              "      border-bottom-color: var(--fill-color);\n",
              "      border-left-color: var(--fill-color);\n",
              "    }\n",
              "    20% {\n",
              "      border-color: transparent;\n",
              "      border-left-color: var(--fill-color);\n",
              "      border-top-color: var(--fill-color);\n",
              "    }\n",
              "    30% {\n",
              "      border-color: transparent;\n",
              "      border-left-color: var(--fill-color);\n",
              "      border-top-color: var(--fill-color);\n",
              "      border-right-color: var(--fill-color);\n",
              "    }\n",
              "    40% {\n",
              "      border-color: transparent;\n",
              "      border-right-color: var(--fill-color);\n",
              "      border-top-color: var(--fill-color);\n",
              "    }\n",
              "    60% {\n",
              "      border-color: transparent;\n",
              "      border-right-color: var(--fill-color);\n",
              "    }\n",
              "    80% {\n",
              "      border-color: transparent;\n",
              "      border-right-color: var(--fill-color);\n",
              "      border-bottom-color: var(--fill-color);\n",
              "    }\n",
              "    90% {\n",
              "      border-color: transparent;\n",
              "      border-bottom-color: var(--fill-color);\n",
              "    }\n",
              "  }\n",
              "</style>\n",
              "\n",
              "      <script>\n",
              "        async function quickchart(key) {\n",
              "          const quickchartButtonEl =\n",
              "            document.querySelector('#' + key + ' button');\n",
              "          quickchartButtonEl.disabled = true;  // To prevent multiple clicks.\n",
              "          quickchartButtonEl.classList.add('colab-df-spinner');\n",
              "          try {\n",
              "            const charts = await google.colab.kernel.invokeFunction(\n",
              "                'suggestCharts', [key], {});\n",
              "          } catch (error) {\n",
              "            console.error('Error during call to suggestCharts:', error);\n",
              "          }\n",
              "          quickchartButtonEl.classList.remove('colab-df-spinner');\n",
              "          quickchartButtonEl.classList.add('colab-df-quickchart-complete');\n",
              "        }\n",
              "        (() => {\n",
              "          let quickchartButtonEl =\n",
              "            document.querySelector('#df-d1b82e3c-1606-4b20-917c-879cc1ccbc18 button');\n",
              "          quickchartButtonEl.style.display =\n",
              "            google.colab.kernel.accessAllowed ? 'block' : 'none';\n",
              "        })();\n",
              "      </script>\n",
              "    </div>\n",
              "\n",
              "    </div>\n",
              "  </div>\n"
            ],
            "application/vnd.google.colaboratory.intrinsic+json": {
              "type": "dataframe",
              "summary": "{\n  \"name\": \"display(df_final\",\n  \"rows\": 9,\n  \"fields\": [\n    {\n      \"column\": \"count\",\n      \"properties\": {\n        \"dtype\": \"number\",\n        \"std\": 0.0,\n        \"min\": 773.0,\n        \"max\": 773.0,\n        \"num_unique_values\": 1,\n        \"samples\": [\n          773.0\n        ],\n        \"semantic_type\": \"\",\n        \"description\": \"\"\n      }\n    },\n    {\n      \"column\": \"mean\",\n      \"properties\": {\n        \"dtype\": \"number\",\n        \"std\": 2.2567413251702675,\n        \"min\": 0.888745148771022,\n        \"max\": 8.258732212160414,\n        \"num_unique_values\": 9,\n        \"samples\": [\n          1.8188874514877102\n        ],\n        \"semantic_type\": \"\",\n        \"description\": \"\"\n      }\n    },\n    {\n      \"column\": \"std\",\n      \"properties\": {\n        \"dtype\": \"number\",\n        \"std\": 0.17160291157028165,\n        \"min\": 0.5454590927486693,\n        \"max\": 1.0837582615672028,\n        \"num_unique_values\": 9,\n        \"samples\": [\n          0.8383955216888507\n        ],\n        \"semantic_type\": \"\",\n        \"description\": \"\"\n      }\n    },\n    {\n      \"column\": \"min\",\n      \"properties\": {\n        \"dtype\": \"number\",\n        \"std\": 1.9382838916021679,\n        \"min\": 0.0,\n        \"max\": 6.0,\n        \"num_unique_values\": 6,\n        \"samples\": [\n          3.5\n        ],\n        \"semantic_type\": \"\",\n        \"description\": \"\"\n      }\n    },\n    {\n      \"column\": \"25%\",\n      \"properties\": {\n        \"dtype\": \"number\",\n        \"std\": 2.4902030260826344,\n        \"min\": 0.0,\n        \"max\": 8.0,\n        \"num_unique_values\": 8,\n        \"samples\": [\n          3.6\n        ],\n        \"semantic_type\": \"\",\n        \"description\": \"\"\n      }\n    },\n    {\n      \"column\": \"50%\",\n      \"properties\": {\n        \"dtype\": \"number\",\n        \"std\": 2.14883689469443,\n        \"min\": 1.0,\n        \"max\": 8.0,\n        \"num_unique_values\": 7,\n        \"samples\": [\n          6.3\n        ],\n        \"semantic_type\": \"\",\n        \"description\": \"\"\n      }\n    },\n    {\n      \"column\": \"75%\",\n      \"properties\": {\n        \"dtype\": \"number\",\n        \"std\": 2.4037008503093262,\n        \"min\": 1.0,\n        \"max\": 9.0,\n        \"num_unique_values\": 6,\n        \"samples\": [\n          7.0\n        ],\n        \"semantic_type\": \"\",\n        \"description\": \"\"\n      }\n    },\n    {\n      \"column\": \"max\",\n      \"properties\": {\n        \"dtype\": \"number\",\n        \"std\": 3.456073558887953,\n        \"min\": 2.0,\n        \"max\": 14.0,\n        \"num_unique_values\": 5,\n        \"samples\": [\n          5.0\n        ],\n        \"semantic_type\": \"\",\n        \"description\": \"\"\n      }\n    }\n  ]\n}"
            }
          },
          "metadata": {}
        }
      ]
    },
    {
      "cell_type": "markdown",
      "source": [
        "**Descripción del Dataset**\n",
        "\n",
        "Este conjunto de datos contiene información sobre los hábitos de vida, la salud y los indicadores de detección del estrés de las personas. Está estructurado en columnas que representan diversos factores que podrían influir o correlacionarse con el bienestar físico y mental de una persona, especialmente en relación con el estrés. Cada fila representa a una persona única con datos en diversas áreas, como patrones de sueño, actividad física, alimentación y medidas de salud."
      ],
      "metadata": {
        "id": "HKU8p1I4gJo-"
      }
    },
    {
      "cell_type": "markdown",
      "source": [
        "**Observaciones iniciales**\n",
        "\n",
        "1. **Patrones de sueño**\n",
        "- En promedio, 6.34 horas (rango: 3.5-8h)  \n",
        "- La mayoría no alcanza las 8h recomendadas.\n",
        "\n",
        "- **Calidad del sueño**:\n",
        "- Media de 3.85/5, la mayoría de datos se encuentra entre el rango de 2-5.  \n",
        "  - La calidad media-alta de sueño podría mitigar el estrés.\n",
        "\n",
        "2. **Carga laboral**\n",
        "- Horas en promedio: 8.26h/día (rango: 6-14h)  \n",
        "- Es interesante ver el vínculo con el estrés alto en estos casos.\n",
        "\n",
        "3. **Consumo de sustancias**\n",
        "- En promedio, consume cafeína 1.82 tazas/día (rango: 0-4)  \n",
        "  - Se podría ver la relación de esta variable con los trastornos de sueño.\n",
        "\n",
        "- En promedio, consumen 0.89 copas/semana (rango: 0-2)  \n",
        "  - En general, se podría decir que hay un bajo consumo.\n"
      ],
      "metadata": {
        "id": "shbGBnSn3LVB"
      }
    },
    {
      "cell_type": "markdown",
      "source": [
        "## Exploración de los valores únicos"
      ],
      "metadata": {
        "id": "DPS3CkvQ6FBX"
      }
    },
    {
      "cell_type": "markdown",
      "source": [
        "Como referencia, el estudio de valores únicos (unique value exploration) se lleva a cabo para comprender la diversidad y granularidad de los datos."
      ],
      "metadata": {
        "id": "Ip-OdDJQ_0bN"
      }
    },
    {
      "cell_type": "code",
      "source": [
        "# Display the number of unique values in each column\n",
        "print(\"\\nValores únicos en cada columna:\")\n",
        "print(df_final.nunique())"
      ],
      "metadata": {
        "colab": {
          "base_uri": "https://localhost:8080/"
        },
        "id": "GfA1cSw46zQN",
        "outputId": "cd5d15ae-2371-495e-8e05-df2871405ba0"
      },
      "execution_count": 13,
      "outputs": [
        {
          "output_type": "stream",
          "name": "stdout",
          "text": [
            "\n",
            "Valores únicos en cada columna:\n",
            "Duracion_sueño            35\n",
            "Calidad_sueño             19\n",
            "Actividad_fisica           7\n",
            "Horas_pantalla             9\n",
            "Horas_trabajo              8\n",
            "Tiempo_desplazamiento      8\n",
            "Interacciones_sociales     5\n",
            "Meditacion                 2\n",
            "Consumo_Cafeína            5\n",
            "Consumo_Alcohol            3\n",
            "Habito_fumar               2\n",
            "Nivel_estrés               3\n",
            "dtype: int64\n"
          ]
        }
      ]
    },
    {
      "cell_type": "code",
      "source": [
        "numerical_columns = df_final.select_dtypes(include=['int64', 'float64']).columns.tolist()\n",
        "non_numerical_columns = df_final.select_dtypes(include=['object']).columns.tolist()\n",
        "\n",
        "print(\"\\nColumnas numéricas:\", numerical_columns)\n",
        "print(\"Columnas categóricas:\", non_numerical_columns)"
      ],
      "metadata": {
        "id": "p_KfR4dj8qt2",
        "colab": {
          "base_uri": "https://localhost:8080/"
        },
        "outputId": "be5e05ac-ce7a-4edf-e77f-4dd9907eb081"
      },
      "execution_count": 22,
      "outputs": [
        {
          "output_type": "stream",
          "name": "stdout",
          "text": [
            "\n",
            "Columnas numéricas: ['Duracion_sueño', 'Calidad_sueño', 'Actividad_fisica', 'Horas_pantalla', 'Horas_trabajo', 'Tiempo_desplazamiento', 'Interacciones_sociales', 'Consumo_Cafeína', 'Consumo_Alcohol']\n",
            "Columnas categóricas: ['Meditacion', 'Habito_fumar', 'Nivel_estrés']\n"
          ]
        }
      ]
    },
    {
      "cell_type": "code",
      "source": [
        "for col in non_numerical_columns:\n",
        "    print(f\"\\nColumn: {col}\")\n",
        "    print(f\"Unique Values: {df_final[col].unique()}\")"
      ],
      "metadata": {
        "colab": {
          "base_uri": "https://localhost:8080/"
        },
        "id": "kgpAX3x8-cMn",
        "outputId": "77d7eb1d-d706-47f2-9097-315173b33cd8"
      },
      "execution_count": 21,
      "outputs": [
        {
          "output_type": "stream",
          "name": "stdout",
          "text": [
            "\n",
            "Column: Meditacion\n",
            "Unique Values: ['Yes' 'No']\n",
            "\n",
            "Column: Habito_fumar\n",
            "Unique Values: ['No' 'Yes']\n",
            "\n",
            "Column: Nivel_estrés\n",
            "Unique Values: ['Bajo' 'Mediano' 'Alto']\n"
          ]
        }
      ]
    },
    {
      "cell_type": "markdown",
      "source": [
        "Análisis exploratorio adicional (EDA)"
      ],
      "metadata": {
        "id": "j8AbNJivA7XY"
      }
    },
    {
      "cell_type": "code",
      "source": [
        "import matplotlib.pyplot as plt\n",
        "import seaborn as sns\n",
        "\n",
        "plt.figure(figsize=(10, 4))\n",
        "\n",
        "# Subgráfico 1: Conteo de categorías\n",
        "plt.subplot(1, 2, 1)\n",
        "sns.countplot(y='Nivel_estrés', data=df_final, palette='muted')\n",
        "plt.title('Distribución del Nivel de Estrés')\n",
        "ax = plt.gca()\n",
        "for p in ax.patches:\n",
        "    ax.annotate(f'{int(p.get_width())}',\n",
        "                (p.get_width(), p.get_y() + p.get_height() / 2),\n",
        "                ha='center', va='center', xytext=(10, 0), textcoords='offset points')\n",
        "sns.despine(left=True, bottom=True)\n",
        "\n",
        "# Subgráfico 2: Gráfico de pastel\n",
        "plt.subplot(1, 2, 2)\n",
        "df_final['Nivel_estrés'].value_counts().plot.pie(\n",
        "    autopct='%1.1f%%',\n",
        "    colors=sns.color_palette('muted'),\n",
        "    startangle=90,\n",
        "    explode=[0.05]*df_final['Nivel_estrés'].nunique()\n",
        ")\n",
        "plt.title('Porcentaje por Nivel de Estrés')\n",
        "plt.ylabel('')\n",
        "\n",
        "plt.tight_layout()\n",
        "plt.show()"
      ],
      "metadata": {
        "id": "ZL0V0kGk55xR"
      },
      "execution_count": 20,
      "outputs": []
    },
    {
      "cell_type": "markdown",
      "source": [
        "El análisis exploratorio de datos realizado a partir de los gráficos revela patrones importantes sobre el nivel de estrés y su relación con diversos hábitos de vida. En primer lugar, la distribución del nivel de estrés muestra que la mayoría de los individuos se encuentran en un estado de estrés moderado, seguido por aquellos con estrés alto y, en menor medida, estrés bajo. Esta tendencia indica que el estrés es una condición común en la muestra analizada y que los niveles elevados o medios son predominantes, posiblemente por factores laborales o de estilo de vida."
      ],
      "metadata": {
        "id": "XD8ATiTg9xDI"
      }
    },
    {
      "cell_type": "code",
      "source": [
        "# Lista de columnas numéricas a analizar\n",
        "columnas_numericas = [\n",
        "    'Duracion_sueño', 'Calidad_sueño', 'Actividad_fisica',\n",
        "    'Horas_pantalla', 'Horas_trabajo', 'Tiempo_desplazamiento', 'Interacciones_sociales'\n",
        "]\n",
        "\n",
        "# Histograma + curva KDE para cada variable\n",
        "import matplotlib.pyplot as plt\n",
        "import seaborn as sns\n",
        "\n",
        "plt.figure(figsize=(14, 12))\n",
        "colores = sns.color_palette(\"muted\", len(columnas_numericas))\n",
        "\n",
        "for i, col in enumerate(columnas_numericas, 1):\n",
        "    plt.subplot(3, 3, i)\n",
        "    sns.histplot(df_final[col], kde=True, bins=10, color=colores[i - 1])\n",
        "    plt.title(f'{col.replace(\"_\", \" \")}')\n",
        "    plt.xlabel(col.replace('_', ' '))\n",
        "    plt.ylabel('Frecuencia')\n",
        "\n",
        "plt.tight_layout()\n",
        "plt.show()"
      ],
      "metadata": {
        "id": "Vgl2ujb66Qzg"
      },
      "execution_count": 23,
      "outputs": []
    },
    {
      "cell_type": "markdown",
      "source": [
        "Respecto a las variables continuas analizadas mediante histogramas y curvas de densidad (KDE), se observa que la duración y calidad del sueño están centradas en valores intermedios, lo cual sugiere cierta regularidad en los hábitos de descanso, aunque no necesariamente en niveles óptimos. Por otro lado, variables como la actividad física y el tiempo frente a pantallas presentan distribuciones más asimétricas, indicando que existen subgrupos con poca actividad o con un uso elevado de dispositivos electrónicos. Además, se nota que las interacciones sociales y la meditación tienden a ser prácticas poco frecuentes en la muestra, lo cual podría influir negativamente en el bienestar emocional."
      ],
      "metadata": {
        "id": "v0KPnXoB9zyY"
      }
    },
    {
      "cell_type": "code",
      "source": [
        "# Boxplots de cada variable numérica frente al nivel de estrés\n",
        "plt.figure(figsize=(14, 12))\n",
        "\n",
        "for i, col in enumerate(columnas_numericas, 1):\n",
        "    plt.subplot(3, 3, i)\n",
        "    sns.boxplot(x='Nivel_estrés', y=col, data=df_final, palette='muted')\n",
        "    plt.title(f'{col.replace(\"_\", \" \")} según Nivel de Estrés')\n",
        "    plt.xlabel('Nivel de Estrés')\n",
        "    plt.ylabel(col.replace('_', ' '))\n",
        "\n",
        "plt.tight_layout()\n",
        "plt.show()"
      ],
      "metadata": {
        "id": "O4Gr7tyB6g5R"
      },
      "execution_count": null,
      "outputs": []
    },
    {
      "cell_type": "markdown",
      "source": [
        "Al comparar los niveles de estrés con las distintas variables numéricas mediante diagramas de caja (boxplots), se identifican relaciones claras. Los individuos con mayor nivel de estrés tienden a dormir menos, reportan menor calidad de sueño y mayor exposición a pantallas. También suelen tener más horas de trabajo y tiempo de desplazamiento, lo que puede generar una sobrecarga física y mental. En contraste, aquellos con menor estrés presentan más actividad física, mejores hábitos de sueño y mayores interacciones sociales, sugiriendo que estas variables actúan como factores protectores."
      ],
      "metadata": {
        "id": "WDMvfy4R9594"
      }
    },
    {
      "cell_type": "code",
      "source": [
        "# Solo columnas numéricas\n",
        "df_num = df_final[columnas_numericas]\n",
        "\n",
        "# Calcular la matriz de correlación\n",
        "plt.figure(figsize=(10, 8))\n",
        "matriz_corr = df_num.corr()\n",
        "\n",
        "sns.heatmap(matriz_corr, annot=True, cmap='coolwarm', fmt='.2f', linewidths=0.5)\n",
        "plt.title('Mapa de Correlación de Variables Numéricas')\n",
        "plt.show()"
      ],
      "metadata": {
        "id": "w9AFLeQ969Tx"
      },
      "execution_count": null,
      "outputs": []
    },
    {
      "cell_type": "markdown",
      "source": [
        "Finalmente, el mapa de calor de correlación permite observar relaciones entre variables numéricas. Se destaca una correlación negativa entre las horas de pantalla y la calidad del sueño, coherente con estudios que señalan cómo el uso excesivo de dispositivos electrónicos afecta el descanso. Asimismo, la actividad física se asocia positivamente con la duración del sueño y las interacciones sociales, lo que refleja un estilo de vida más saludable en conjunto. También se evidencia que las horas de trabajo y el tiempo de desplazamiento están relacionadas entre sí, reforzando la idea de que la carga laboral y el traslado contribuyen a niveles más altos de estrés."
      ],
      "metadata": {
        "id": "hagbd3Xz97LY"
      }
    },
    {
      "cell_type": "code",
      "source": [
        "import seaborn as sns\n",
        "import matplotlib.pyplot as plt\n",
        "\n",
        "# Selección de columnas numéricas + variable categórica objetivo\n",
        "columnas_pairplot = [\n",
        "    'Duracion_sueño', 'Calidad_sueño', 'Actividad_fisica',\n",
        "    'Horas_pantalla', 'Horas_trabajo', 'Tiempo_desplazamiento',\n",
        "    'Interacciones_sociales', 'Nivel_estrés'\n",
        "]\n",
        "\n",
        "# Subset del DataFrame\n",
        "df_pairplot = df_final[columnas_pairplot]\n",
        "\n",
        "# Ejecutar pairplot\n",
        "sns.pairplot(df_pairplot, hue='Nivel_estrés', diag_kind='hist', palette='muted')\n",
        "plt.suptitle('Relaciones entre variables según nivel de estrés', y=1.02)\n",
        "plt.show()"
      ],
      "metadata": {
        "id": "WRqhUW7D4aKu"
      },
      "execution_count": null,
      "outputs": []
    },
    {
      "cell_type": "markdown",
      "source": [
        "Este grafico permite observar las relaciones entre las variables numéricas del conjunto de datos segmentadas por nivel de estrés (bajo, medio y alto). Aunque no existe una separación clara entre las categorías, se evidencian ciertos patrones que sugieren asociaciones relevantes. Por ejemplo, los individuos con mayor duración y calidad de sueño tienden a estar más representados en niveles de estrés bajo, mientras que quienes duermen poco y reportan mala calidad de sueño se concentran en niveles de estrés alto. Asimismo, se observa que una mayor actividad física parece estar relacionada con menor estrés, mientras que un uso más prolongado de pantallas presenta una ligera tendencia al estrés elevado. También se identifican asociaciones entre altos niveles de estrés y largas jornadas laborales o extensos tiempos de desplazamiento, lo cual sugiere que estos factores podrían contribuir al malestar emocional. Finalmente, se percibe que una mayor frecuencia de interacciones sociales se vincula con menores niveles de estrés, lo que refuerza la idea de que el soporte social podría actuar como un amortiguador del estrés. En conjunto, este gráfico sugiere que no hay una única variable determinante del estrés, sino que su nivel parece depender de un conjunto de factores interrelacionados, lo que valida el enfoque multivariable utilizado en el modelo predictivo del proyecto."
      ],
      "metadata": {
        "id": "JTyD8d0s4cd1"
      }
    },
    {
      "cell_type": "markdown",
      "source": [
        "# Análisis exploratorio de datos"
      ],
      "metadata": {
        "id": "Lc_4O9_VAcy3"
      }
    },
    {
      "cell_type": "markdown",
      "source": [
        "##INSTALACIÓN DE BIBLIOTECAS"
      ],
      "metadata": {
        "id": "_3BD8i2pAjyt"
      }
    },
    {
      "cell_type": "code",
      "source": [
        "# ==============================================================================\n",
        "# PASO 1: INSTALAR LAS BIBLIOTECAS NECESARIAS\n",
        "# ==============================================================================\n",
        "# Este comando instala la biblioteca para descargar datasets de Kaggle.\n",
        "!pip install opendatasets\n",
        "\n",
        "# ==============================================================================\n",
        "# PASO 2: IMPORTAR TODAS LAS HERRAMIENTAS\n",
        "# ==============================================================================\n",
        "import opendatasets as od\n",
        "import pandas as pd\n",
        "import os\n",
        "import numpy as np\n",
        "import matplotlib.pyplot as plt\n",
        "import seaborn as sns\n",
        "\n",
        "# Herramientas de Scikit-learn para el preprocesamiento y modelado\n",
        "from sklearn.model_selection import train_test_split\n",
        "from sklearn.preprocessing import RobustScaler, LabelEncoder\n",
        "from sklearn.ensemble import IsolationForest, RandomForestClassifier\n",
        "from sklearn.linear_model import LogisticRegression\n",
        "from sklearn.tree import DecisionTreeClassifier\n",
        "from sklearn.metrics import (\n",
        "    accuracy_score,\n",
        "    roc_auc_score,\n",
        "    confusion_matrix,\n",
        "    classification_report\n",
        ")\n",
        "\n",
        "# ==============================================================================\n",
        "# PASO 3: DESCARGAR Y CARGAR LOS DATOS\n",
        "# ==============================================================================\n",
        "# Definimos la URL del dataset que queremos descargar\n",
        "dataset_url = \"https://www.kaggle.com/datasets/shijo96john/stress-level-prediction/data\"\n",
        "\n",
        "print(\"Iniciando la descarga del dataset de Kaggle...\")\n",
        "# Continuar descarga\n",
        "od.download(dataset_url)\n",
        "print(\"Descarga completada.\")\n",
        "\n",
        "# Definir la ruta donde se guardó el dataset\n",
        "# El nombre de la carpeta suele ser el nombre del dataset en la URL\n",
        "dataset_path = \"./stress-level-prediction\"\n",
        "\n",
        "# Buscar y cargar el archivo CSV de forma automática\n",
        "try:\n",
        "    file_list = os.listdir(dataset_path)\n",
        "    print(f\"\\nArchivos encontrados en la carpeta: {file_list}\")\n",
        "\n",
        "    # Buscamos automáticamente cualquier archivo que termine en .csv\n",
        "    csv_files = [f for f in file_list if f.endswith('.csv')]\n",
        "\n",
        "    if csv_files:\n",
        "        # Tomamos el primer archivo CSV encontrado\n",
        "        csv_file_name = csv_files[0]\n",
        "        csv_file_path = os.path.join(dataset_path, csv_file_name)\n",
        "\n",
        "        print(f\"\\nCargando el archivo CSV: '{csv_file_name}'\")\n",
        "        stress_df = pd.read_csv(csv_file_path)\n",
        "\n",
        "        print(\"\\n¡Éxito! El dataset se ha cargado correctamente.\")\n",
        "        print(\"Estas son las primeras 5 filas:\")\n",
        "        print(stress_df.head())\n",
        "\n",
        "    else:\n",
        "        print(\"\\nError: No se encontró ningún archivo .csv en la carpeta del dataset.\")\n",
        "        stress_df = None\n",
        "\n",
        "except FileNotFoundError:\n",
        "    print(f\"\\nError: No se pudo encontrar la carpeta del dataset en la ruta '{dataset_path}'. Asegúrate de que la descarga fue exitosa.\")\n",
        "    stress_df = None\n",
        "except Exception as e:\n",
        "    print(f\"\\nOcurrió un error inesperado: {e}\")\n",
        "    stress_df = None\n"
      ],
      "metadata": {
        "colab": {
          "base_uri": "https://localhost:8080/"
        },
        "id": "zqAwCu__I3B6",
        "outputId": "7089f239-462c-4f98-fa92-1a949e01aac0"
      },
      "execution_count": 2,
      "outputs": [
        {
          "output_type": "stream",
          "name": "stdout",
          "text": [
            "Collecting opendatasets\n",
            "  Downloading opendatasets-0.1.22-py3-none-any.whl.metadata (9.2 kB)\n",
            "Requirement already satisfied: tqdm in /usr/local/lib/python3.11/dist-packages (from opendatasets) (4.67.1)\n",
            "Requirement already satisfied: kaggle in /usr/local/lib/python3.11/dist-packages (from opendatasets) (1.7.4.5)\n",
            "Requirement already satisfied: click in /usr/local/lib/python3.11/dist-packages (from opendatasets) (8.2.1)\n",
            "Requirement already satisfied: bleach in /usr/local/lib/python3.11/dist-packages (from kaggle->opendatasets) (6.2.0)\n",
            "Requirement already satisfied: certifi>=14.05.14 in /usr/local/lib/python3.11/dist-packages (from kaggle->opendatasets) (2025.7.14)\n",
            "Requirement already satisfied: charset-normalizer in /usr/local/lib/python3.11/dist-packages (from kaggle->opendatasets) (3.4.2)\n",
            "Requirement already satisfied: idna in /usr/local/lib/python3.11/dist-packages (from kaggle->opendatasets) (3.10)\n",
            "Requirement already satisfied: protobuf in /usr/local/lib/python3.11/dist-packages (from kaggle->opendatasets) (5.29.5)\n",
            "Requirement already satisfied: python-dateutil>=2.5.3 in /usr/local/lib/python3.11/dist-packages (from kaggle->opendatasets) (2.9.0.post0)\n",
            "Requirement already satisfied: python-slugify in /usr/local/lib/python3.11/dist-packages (from kaggle->opendatasets) (8.0.4)\n",
            "Requirement already satisfied: requests in /usr/local/lib/python3.11/dist-packages (from kaggle->opendatasets) (2.32.3)\n",
            "Requirement already satisfied: setuptools>=21.0.0 in /usr/local/lib/python3.11/dist-packages (from kaggle->opendatasets) (75.2.0)\n",
            "Requirement already satisfied: six>=1.10 in /usr/local/lib/python3.11/dist-packages (from kaggle->opendatasets) (1.17.0)\n",
            "Requirement already satisfied: text-unidecode in /usr/local/lib/python3.11/dist-packages (from kaggle->opendatasets) (1.3)\n",
            "Requirement already satisfied: urllib3>=1.15.1 in /usr/local/lib/python3.11/dist-packages (from kaggle->opendatasets) (2.4.0)\n",
            "Requirement already satisfied: webencodings in /usr/local/lib/python3.11/dist-packages (from kaggle->opendatasets) (0.5.1)\n",
            "Downloading opendatasets-0.1.22-py3-none-any.whl (15 kB)\n",
            "Installing collected packages: opendatasets\n",
            "Successfully installed opendatasets-0.1.22\n",
            "Iniciando la descarga del dataset de Kaggle...\n",
            "Please provide your Kaggle credentials to download this dataset. Learn more: http://bit.ly/kaggle-creds\n",
            "Your Kaggle username: giacomosss\n",
            "Your Kaggle Key: ··········\n",
            "Dataset URL: https://www.kaggle.com/datasets/shijo96john/stress-level-prediction\n",
            "Downloading stress-level-prediction.zip to ./stress-level-prediction\n"
          ]
        },
        {
          "output_type": "stream",
          "name": "stderr",
          "text": [
            "100%|██████████| 12.3k/12.3k [00:00<00:00, 2.37MB/s]"
          ]
        },
        {
          "output_type": "stream",
          "name": "stdout",
          "text": [
            "\n",
            "Descarga completada.\n",
            "\n",
            "Archivos encontrados en la carpeta: ['stress_detection_data.csv']\n",
            "\n",
            "Cargando el archivo CSV: 'stress_detection_data.csv'\n",
            "\n",
            "¡Éxito! El dataset se ha cargado correctamente.\n",
            "Estas son las primeras 5 filas:\n",
            "   Age  Gender         Occupation Marital_Status  Sleep_Duration  \\\n",
            "0   30    Male  Software Engineer         Single             7.0   \n",
            "1   35  Female  Marketing Manager        Married             6.0   \n",
            "2   40    Male     Data Scientist       Divorced             7.0   \n",
            "3   35    Male  Software Engineer         Single             7.0   \n",
            "4   29  Female            Teacher         Single             8.0   \n",
            "\n",
            "   Sleep_Quality Wake_Up_Time  Bed_Time  Physical_Activity  Screen_Time  ...  \\\n",
            "0            4.0      7:00 AM  10:00 PM                2.0          4.0  ...   \n",
            "1            3.0      6:00 AM  11:00 PM                1.0          3.0  ...   \n",
            "2            4.0      7:00 AM  10:00 PM                2.0          4.0  ...   \n",
            "3            4.0      7:00 AM  10:00 PM                2.0          4.0  ...   \n",
            "4            5.0      6:30 AM  10:30 PM                3.0          2.0  ...   \n",
            "\n",
            "   Smoking_Habit  Work_Hours Travel_Time  Social_Interactions  \\\n",
            "0             No           8         1.0                    5   \n",
            "1             No           9         2.0                    3   \n",
            "2             No           8         1.0                    5   \n",
            "3             No           8         1.0                    5   \n",
            "4             No           7         1.0                    4   \n",
            "\n",
            "   Meditation_Practice      Exercise_Type Blood_Pressure Cholesterol_Level  \\\n",
            "0                  Yes             Cardio            120               180   \n",
            "1                   No               Yoga            110               160   \n",
            "2                  Yes  Strength Training            130               200   \n",
            "3                  Yes             Cardio            120               180   \n",
            "4                  Yes               Yoga            110               180   \n",
            "\n",
            "   Blood_Sugar_Level  Stress_Detection  \n",
            "0                 90               Low  \n",
            "1                 80            Medium  \n",
            "2                100              High  \n",
            "3                 90               Low  \n",
            "4                 90               Low  \n",
            "\n",
            "[5 rows x 22 columns]\n"
          ]
        },
        {
          "output_type": "stream",
          "name": "stderr",
          "text": [
            "\n"
          ]
        }
      ]
    },
    {
      "cell_type": "markdown",
      "source": [
        "## PREPROCESAMIENTO DE DATOS"
      ],
      "metadata": {
        "id": "i14HXBEERK6d"
      }
    },
    {
      "cell_type": "code",
      "source": [
        "# ==============================================================================\n",
        "# PASO 4: PROCESAMIENTO DE DATOS\n",
        "# ==============================================================================\n",
        "if stress_df is not None:\n",
        "    print(\"\\n--- Iniciando el preprocesamiento de datos ---\")\n",
        "\n",
        "    # 1. Seleccionar las variables que nos interesan\n",
        "    variables_interes = [\n",
        "        \"Sleep_Duration\", \"Sleep_Quality\", \"Physical_Activity\", \"Screen_Time\",\n",
        "        \"Work_Hours\", \"Travel_Time\", \"Social_Interactions\", \"Meditation_Practice\",\n",
        "        \"Caffeine_Intake\", \"Alcohol_Intake\", \"Smoking_Habit\", \"Stress_Detection\"\n",
        "    ]\n",
        "    df_trabajo = stress_df[variables_interes].copy()\n",
        "\n",
        "    # 2. Codificar variables categóricas (como 'Smoking_Habit')\n",
        "    le_smoking = LabelEncoder()\n",
        "    df_trabajo['Smoking_Habit'] = le_smoking.fit_transform(df_trabajo['Smoking_Habit'])\n",
        "\n",
        "    # 3. Definir las características (X) y la variable objetivo (y)\n",
        "    X = df_trabajo.drop(columns=['Stress_Detection'])\n",
        "    y = df_trabajo['Stress_Detection']\n",
        "\n",
        "    print(\"\\nForma de las características (X):\", X.shape)\n",
        "    print(\"Forma de la variable objetivo (y):\", y.shape)\n",
        "\n",
        "    # Encode 'Meditation_Practice' column\n",
        "    le_meditation = LabelEncoder()\n",
        "    X['Meditation_Practice'] = le_meditation.fit_transform(X['Meditation_Practice'])\n",
        "\n",
        "    # Encode 'Stress_Detection' column\n",
        "    le_stress = LabelEncoder()\n",
        "    y_encoded = le_stress.fit_transform(y)\n",
        "\n",
        "    # 4. Detección y eliminación de valores atípicos (Outliers)\n",
        "    iso_forest = IsolationForest(contamination=0.01, random_state=42)\n",
        "    outliers = iso_forest.fit_predict(X)\n",
        "    outlier_indices = np.where(outliers == -1)[0]\n",
        "\n",
        "    X_filtered = X.drop(outlier_indices).reset_index(drop=True)\n",
        "    y_filtered = y_encoded[~np.isin(np.arange(len(y_encoded)), outlier_indices)]\n",
        "    y_filtered = pd.Series(y_filtered).reset_index(drop=True)\n",
        "\n",
        "\n",
        "    print(f\"\\nSe detectaron y eliminaron {len(outlier_indices)} valores atípicos.\")\n",
        "    print(\"Nueva forma de X:\", X_filtered.shape)\n",
        "    print(\"Nueva forma de y:\", y_filtered.shape)\n",
        "\n",
        "    # 5. División en conjuntos de entrenamiento y prueba\n",
        "    X_train, X_test, y_train, y_test = train_test_split(\n",
        "        X_filtered, y_filtered, test_size=0.2, random_state=42, stratify=y_filtered\n",
        "    )\n",
        "    print(\"\\nDatos divididos en conjuntos de entrenamiento y prueba.\")\n",
        "\n",
        "    # 6. Escalado de características\n",
        "    scaler = RobustScaler()\n",
        "    X_train = scaler.fit_transform(X_train)\n",
        "    X_test = scaler.transform(X_test)\n",
        "    print(\"Características escaladas con RobustScaler.\")\n",
        "\n",
        "    # 7. Entrenar modelo\n",
        "    model = LogisticRegression(max_iter=1000, random_state=42)\n",
        "    model.fit(X_train, y_train)\n",
        "\n",
        "    # 8. Predicción\n",
        "    y_pred = model.predict(X_test)\n",
        "\n",
        "    # 9. Matriz de confusión\n",
        "    from sklearn.metrics import ConfusionMatrixDisplay\n",
        "    etiquetas = [\"Low\", \"Medium\", \"High\"]\n",
        "    etiquetas_encoded = le_stress.transform(etiquetas)\n",
        "\n",
        "    cm = confusion_matrix(y_test, y_pred, labels=etiquetas_encoded)\n",
        "    disp = ConfusionMatrixDisplay(confusion_matrix=cm, display_labels=etiquetas)\n",
        "\n",
        "    # 10. Mostrar la matriz\n",
        "    fig, ax = plt.subplots(figsize=(6, 6))\n",
        "    disp.plot(ax=ax, cmap=\"Blues\", values_format=\"d\")\n",
        "    plt.title(\"Matriz de Confusión - Stress Detection\")\n",
        "    plt.grid(False)\n",
        "    plt.show()"
      ],
      "metadata": {
        "colab": {
          "base_uri": "https://localhost:8080/",
          "height": 730
        },
        "id": "PwXFsp1CRVK9",
        "outputId": "0f355e75-2630-4da3-f3d9-fee32a228397"
      },
      "execution_count": 3,
      "outputs": [
        {
          "output_type": "stream",
          "name": "stdout",
          "text": [
            "\n",
            "--- Iniciando el preprocesamiento de datos ---\n",
            "\n",
            "Forma de las características (X): (773, 11)\n",
            "Forma de la variable objetivo (y): (773,)\n",
            "\n",
            "Se detectaron y eliminaron 8 valores atípicos.\n",
            "Nueva forma de X: (765, 11)\n",
            "Nueva forma de y: (765,)\n",
            "\n",
            "Datos divididos en conjuntos de entrenamiento y prueba.\n",
            "Características escaladas con RobustScaler.\n"
          ]
        },
        {
          "output_type": "display_data",
          "data": {
            "text/plain": [
              "<Figure size 600x600 with 2 Axes>"
            ],
            "image/png": "[encoded data removed]"
          },
          "metadata": {}
        }
      ]
    },
    {
      "cell_type": "markdown",
      "source": [
        "\n",
        "# ENTRENAMIENTO Y EVALUACIÓN DE MODELOS\n"
      ],
      "metadata": {
        "id": "TTH1bvHESM43"
      }
    },
    {
      "cell_type": "code",
      "source": [
        "# ==============================================================================\n",
        "# PASO 5: ENTRENAMIENTO Y EVALUACIÓN DE MODELOS INDIVIDUALES (CON ORDEN PERSONALIZADO)\n",
        "# ==============================================================================\n",
        "if stress_df is not None:\n",
        "    print(\"\\n--- Iniciando la evaluación de modelos individuales ---\")\n",
        "\n",
        "    models = {\n",
        "        \"Regresión Logística\": LogisticRegression(random_state=42, max_iter=1000),\n",
        "        \"Árbol de Decisión\": DecisionTreeClassifier(random_state=42),\n",
        "        \"Random Forest\": RandomForestClassifier(random_state=42)\n",
        "    }\n",
        "\n",
        "    # Definimos el orden deseado para las etiquetas\n",
        "    orden_personalizado = [\"High\", \"Medium\", \"Low\"]\n",
        "\n",
        "    def train_and_evaluate_models(models, X_train, y_train, orden, encoder):\n",
        "        results = {}\n",
        "        # Traducimos el orden de texto a su equivalente numérico para las funciones de sklearn\n",
        "        orden_numerico = encoder.transform(orden)\n",
        "\n",
        "        for name, model in models.items():\n",
        "            print(f\"\\n--- Entrenando y Evaluando: {name} ---\")\n",
        "            model.fit(X_train, y_train)\n",
        "\n",
        "            y_train_pred = model.predict(X_train)\n",
        "            accuracy = accuracy_score(y_train, y_train_pred)\n",
        "            auc = roc_auc_score(y_train, model.predict_proba(X_train), multi_class=\"ovr\")\n",
        "            results[name] = {'Accuracy': accuracy, 'AUC': auc}\n",
        "\n",
        "            # Usamos el orden numérico para calcular la matriz y el de texto para las etiquetas\n",
        "            conf_matrix = confusion_matrix(y_train, y_train_pred, labels=orden_numerico)\n",
        "            plt.figure(figsize=(6, 4))\n",
        "            sns.heatmap(conf_matrix, annot=True, fmt='d', cmap='PuBuGn',\n",
        "                        xticklabels=orden, yticklabels=orden)\n",
        "            plt.title(f'Matriz de Confusión para {name} (Entrenamiento)')\n",
        "            plt.xlabel('Predicho')\n",
        "            plt.ylabel('Actual')\n",
        "            plt.show()\n",
        "\n",
        "            # Usamos ambos órdenes para generar el reporte correctamente\n",
        "            print(f\"\\nReporte de Clasificación para {name} (Entrenamiento):\\n\")\n",
        "            print(classification_report(y_train, y_train_pred, labels=orden_numerico, target_names=orden))\n",
        "\n",
        "        results_df = pd.DataFrame(results).T\n",
        "        return results_df\n",
        "\n",
        "    # Pasamos el orden personalizado y el encoder a la función\n",
        "    evaluation_summary = train_and_evaluate_models(models, X_train, y_train, orden_personalizado, le_stress)\n",
        "\n",
        "    print(\"\\n--- Resumen de Evaluación de Modelos Individuales (Datos de Entrenamiento) ---\")\n",
        "    print(evaluation_summary)"
      ],
      "metadata": {
        "colab": {
          "base_uri": "https://localhost:8080/",
          "height": 1000
        },
        "id": "41UdsPdxSU3F",
        "outputId": "cbe01373-8a03-4deb-f2f4-5dcaa50a09ed"
      },
      "execution_count": 4,
      "outputs": [
        {
          "output_type": "stream",
          "name": "stdout",
          "text": [
            "\n",
            "--- Iniciando la evaluación de modelos individuales ---\n",
            "\n",
            "--- Entrenando y Evaluando: Regresión Logística ---\n"
          ]
        },
        {
          "output_type": "display_data",
          "data": {
            "text/plain": [
              "<Figure size 600x400 with 2 Axes>"
            ],
            "image/png": "[encoded data removed]"
          },
          "metadata": {}
        },
        {
          "output_type": "stream",
          "name": "stdout",
          "text": [
            "\n",
            "Reporte de Clasificación para Regresión Logística (Entrenamiento):\n",
            "\n",
            "              precision    recall  f1-score   support\n",
            "\n",
            "        High       0.68      0.72      0.70       238\n",
            "      Medium       0.55      0.69      0.61       245\n",
            "         Low       0.44      0.16      0.24       129\n",
            "\n",
            "    accuracy                           0.59       612\n",
            "   macro avg       0.55      0.53      0.52       612\n",
            "weighted avg       0.57      0.59      0.57       612\n",
            "\n",
            "\n",
            "--- Entrenando y Evaluando: Árbol de Decisión ---\n"
          ]
        },
        {
          "output_type": "display_data",
          "data": {
            "text/plain": [
              "<Figure size 600x400 with 2 Axes>"
            ],
            "image/png": "[encoded data removed]"
          },
          "metadata": {}
        },
        {
          "output_type": "stream",
          "name": "stdout",
          "text": [
            "\n",
            "Reporte de Clasificación para Árbol de Decisión (Entrenamiento):\n",
            "\n",
            "              precision    recall  f1-score   support\n",
            "\n",
            "        High       0.94      0.99      0.96       238\n",
            "      Medium       0.98      0.93      0.96       245\n",
            "         Low       0.94      0.93      0.94       129\n",
            "\n",
            "    accuracy                           0.95       612\n",
            "   macro avg       0.95      0.95      0.95       612\n",
            "weighted avg       0.96      0.95      0.95       612\n",
            "\n",
            "\n",
            "--- Entrenando y Evaluando: Random Forest ---\n"
          ]
        },
        {
          "output_type": "display_data",
          "data": {
            "text/plain": [
              "<Figure size 600x400 with 2 Axes>"
            ],
            "image/png": "[encoded data removed]"
          },
          "metadata": {}
        },
        {
          "output_type": "stream",
          "name": "stdout",
          "text": [
            "\n",
            "Reporte de Clasificación para Random Forest (Entrenamiento):\n",
            "\n",
            "              precision    recall  f1-score   support\n",
            "\n",
            "        High       0.95      0.97      0.96       238\n",
            "      Medium       0.95      0.96      0.96       245\n",
            "         Low       0.96      0.91      0.93       129\n",
            "\n",
            "    accuracy                           0.95       612\n",
            "   macro avg       0.96      0.95      0.95       612\n",
            "weighted avg       0.95      0.95      0.95       612\n",
            "\n",
            "\n",
            "--- Resumen de Evaluación de Modelos Individuales (Datos de Entrenamiento) ---\n",
            "                     Accuracy       AUC\n",
            "Regresión Logística  0.591503  0.792432\n",
            "Árbol de Decisión    0.954248  0.997063\n",
            "Random Forest        0.954248  0.991957\n"
          ]
        }
      ]
    },
    {
      "cell_type": "code",
      "source": [
        "# ==============================================================================\n",
        "# PASO 6: ENTRENAMIENTO Y EVALUACIÓN DEL MODELO DE STACKING\n",
        "# ==============================================================================\n",
        "# Solo continuamos si el preprocesamiento se completó\n",
        "if 'stress_df' in locals() and stress_df is not None:\n",
        "    print(\"\\n--- Iniciando el entrenamiento del modelo de Stacking ---\")\n",
        "\n",
        "\n",
        "    from sklearn.ensemble import StackingClassifier, RandomForestClassifier\n",
        "    from sklearn.linear_model import LogisticRegression\n",
        "    from sklearn.tree import DecisionTreeClassifier\n",
        "    from sklearn.model_selection import cross_val_score\n",
        "\n",
        "    base_models = [\n",
        "        ('lr', LogisticRegression(random_state=42, max_iter=1000)),\n",
        "        ('dt', DecisionTreeClassifier(random_state=42)),\n",
        "        ('rf', RandomForestClassifier(random_state=42))\n",
        "    ]\n",
        "    meta_model = RandomForestClassifier(random_state=42)\n",
        "    stacking_model = StackingClassifier(estimators=base_models, final_estimator=meta_model, cv=5)\n",
        "\n",
        "    print(\"\\nRealizando validación cruzada para el modelo de Stacking...\")\n",
        "    cv_scores = cross_val_score(stacking_model, X_train, y_train, cv=5, scoring='accuracy')\n",
        "\n",
        "    print(\"Entrenando el modelo final de Stacking...\")\n",
        "    stacking_model.fit(X_train, y_train)\n",
        "    test_accuracy = stacking_model.score(X_test, y_test)\n",
        "\n",
        "    print(\"\\n--- Resultados de la Evaluación del Modelo de Stacking ---\")\n",
        "    results = {\n",
        "        \"Cross-Validation Scores\": cv_scores.tolist(),\n",
        "        \"Mean CV Accuracy\": cv_scores.mean(),\n",
        "        \"Test Set Accuracy\": test_accuracy\n",
        "    }\n",
        "    print(results)\n"
      ],
      "metadata": {
        "colab": {
          "base_uri": "https://localhost:8080/"
        },
        "id": "_ozxo5KALxzF",
        "outputId": "4ec4c784-83ae-431e-99cb-45171dc6b872"
      },
      "execution_count": 6,
      "outputs": [
        {
          "output_type": "stream",
          "name": "stdout",
          "text": [
            "\n",
            "--- Iniciando el entrenamiento del modelo de Stacking ---\n",
            "\n",
            "Realizando validación cruzada para el modelo de Stacking...\n",
            "Entrenando el modelo final de Stacking...\n",
            "\n",
            "--- Resultados de la Evaluación del Modelo de Stacking ---\n",
            "{'Cross-Validation Scores': [0.6178861788617886, 0.6260162601626016, 0.6475409836065574, 0.5737704918032787, 0.6229508196721312], 'Mean CV Accuracy': np.float64(0.6176329468212716), 'Test Set Accuracy': 0.6666666666666666}\n"
          ]
        }
      ]
    },
    {
      "cell_type": "code",
      "source": [
        "# ==============================================================================\n",
        "# PASO 7: ANÁLISIS DE IMPORTANCIA DE CARACTERÍSTICAS DEL STACKING\n",
        "# ==============================================================================\n",
        "if stress_df is not None:\n",
        "    print(\"\\n--- Analizando la importancia de las características del modelo de Stacking ---\")\n",
        "\n",
        "    feature_names = X_filtered.columns\n",
        "    rf_base_model = stacking_model.named_estimators_['rf']\n",
        "    rf_feature_importances = rf_base_model.feature_importances_\n",
        "\n",
        "    feature_importance_df = pd.DataFrame({\n",
        "        'Feature': feature_names,\n",
        "        'Importance': rf_feature_importances\n",
        "    }).sort_values(by='Importance', ascending=False)\n",
        "\n",
        "    plt.figure(figsize=(12, 8))\n",
        "    sns.barplot(x='Importance', y='Feature', data=feature_importance_df, palette='muted')\n",
        "    plt.title('Importancia de las Características (Según el Modelo Base Random Forest del Stacking)', fontsize=16)\n",
        "    plt.xlabel('Nivel de Importancia', fontsize=12)\n",
        "    plt.ylabel('Característica', fontsize=12)\n",
        "    plt.tight_layout()\n",
        "    plt.show()"
      ],
      "metadata": {
        "colab": {
          "base_uri": "https://localhost:8080/",
          "height": 766
        },
        "id": "at1fBf1ZN0is",
        "outputId": "dacc3f86-fddb-488c-ec40-857292e4b28f"
      },
      "execution_count": 7,
      "outputs": [
        {
          "output_type": "stream",
          "name": "stdout",
          "text": [
            "\n",
            "--- Analizando la importancia de las características del modelo de Stacking ---\n"
          ]
        },
        {
          "output_type": "stream",
          "name": "stderr",
          "text": [
            "/tmp/ipython-input-7-3028555353.py:17: FutureWarning: \n",
            "\n",
            "Passing `palette` without assigning `hue` is deprecated and will be removed in v0.14.0. Assign the `y` variable to `hue` and set `legend=False` for the same effect.\n",
            "\n",
            "  sns.barplot(x='Importance', y='Feature', data=feature_importance_df, palette='muted')\n"
          ]
        },
        {
          "output_type": "display_data",
          "data": {
            "text/plain": [
              "<Figure size 1200x800 with 1 Axes>"
            ],
            "image/png": "[encoded data removed]"
          },
          "metadata": {}
        }
      ]
    },
    {
      "cell_type": "code",
      "source": [
        "# ==============================================================================\n",
        "# PASO 8: VISUALIZACIÓN DE LAS PREDICCIONES FINALES (CON ORDEN PERSONALIZADO)\n",
        "# ==============================================================================\n",
        "if stress_df is not None:\n",
        "    print(\"\\n--- Visualizando la distribución de las predicciones en el conjunto de prueba ---\")\n",
        "\n",
        "    # 1. Generar predicciones en el conjunto de prueba con el modelo de Stacking\n",
        "    y_pred_encoded = stacking_model.predict(X_test)\n",
        "\n",
        "    # 2. Mapear las predicciones numéricas de vuelta a las etiquetas de texto originales\n",
        "    y_pred_mapped = le_stress.inverse_transform(y_pred_encoded)\n",
        "\n",
        "    # 3. Graficar la distribución de los niveles de estrés predichos con el orden deseado\n",
        "    plt.figure(figsize=(8, 6))\n",
        "\n",
        "    # Definimos manualmente el orden que queremos para el gráfico.\n",
        "    custom_order = [\"High\", \"Medium\", \"Low\"]\n",
        "\n",
        "    # Usamos nuestra lista 'custom_order' en el parámetro 'order'.\n",
        "    sns.countplot(y=y_pred_mapped, palette='muted', order=custom_order)\n",
        "\n",
        "    plt.title('Distribución de los Niveles de Estrés Predichos (en el Conjunto de Prueba)')\n",
        "    plt.xlabel('Conteo')\n",
        "    plt.ylabel('Niveles de Estrés Predichos')\n",
        "    plt.show()"
      ],
      "metadata": {
        "id": "ZwXeLjT3Qmse",
        "colab": {
          "base_uri": "https://localhost:8080/",
          "height": 717
        },
        "outputId": "5cfbd53f-dd11-4dd2-f7a2-57e7fa528cd9"
      },
      "execution_count": 8,
      "outputs": [
        {
          "output_type": "stream",
          "name": "stdout",
          "text": [
            "\n",
            "--- Visualizando la distribución de las predicciones en el conjunto de prueba ---\n"
          ]
        },
        {
          "output_type": "stream",
          "name": "stderr",
          "text": [
            "/tmp/ipython-input-8-1907237946.py:20: FutureWarning: \n",
            "\n",
            "Passing `palette` without assigning `hue` is deprecated and will be removed in v0.14.0. Assign the `y` variable to `hue` and set `legend=False` for the same effect.\n",
            "\n",
            "  sns.countplot(y=y_pred_mapped, palette='muted', order=custom_order)\n"
          ]
        },
        {
          "output_type": "display_data",
          "data": {
            "text/plain": [
              "<Figure size 800x600 with 1 Axes>"
            ],
            "image/png": "[encoded data removed]"
          },
          "metadata": {}
        }
      ]
    },
    {
      "cell_type": "markdown",
      "source": [
        "# Conclusiones\n",
        "\n",
        "Se ha analizado la relación entre diversos hábitos de vida y los niveles de estrés con el propórsito de identificar factores clave que impactan en la salud mental de los sujetos en las bases de datos. A través de un análisis exploratorio de datos y modelos predictivos se determinó que las variables más influyentes en los niveles de estrés son las siguientes:\n",
        "\n",
        "- Duración del sueño\n",
        "- Calidad del sueño\n",
        "- Horas de trabajo\n",
        "- Tiempo frente a pantallas\n",
        "- Interacciones sociales\n",
        "\n",
        "Estos resultados destacan que un estilo de vida equilibrado desempeña un rol fundamental en la mitigación del estrés, donde el sueño adecuado, ejercicio regular y relaciones sociales actúan como factores de protección ante el estrés. En contraste, las variables como jornadas laborales largas o excesivo tiempo en pantallas de dispositivos tienden a catalizar el estrés.                    \n",
        "                        \n",
        "El sueño emerge como un factor crítico en la gestión del estrés. Los resultados del EDA muestran que los individuos con mayor duración (promedio de 6.34 horas, pero a menudo por debajo de las 8 horas) y mejor calidad de sueño (media de 3.85/5) tienden a reportar niveles de estrés más bajos. Esto porque la falta de sueño o su baja calidad se asocia con niveles de estrés altos, como se observa en los boxplots y pairplots. Por lo tanto, mejorar los hábitos de sueño, mediante rutinas consistentes y la reducción de estímulos como la cafeína o la luz azul, es una estrategia clave para mitigar el estrés.\n",
        "                                     \n",
        "También se puede resaltar que variables como consumo de café o alcohol, influyen en niveles de estrés, especialmente en estrés medio. El EDA muestra que el consumo promedio de cafeína se asocia con estrés medio, probablemente por alteraciones al sueño, ya que el consumo de esta sustancia dificulta la relajación. El consumo medio de alcohol, por su parte, afecta moderadamente en el estrés medio, un consumo leve podría reflejar un impacto en el sueño y consecuente al estrés.                               \n",
        "\n",
        "Las implicaciones de estos hallazgos son significativas para la salud mental tanto en el sector público como para desarrollo de intervenciones personalizadas. Para futuras investigaciones, se recomienda explorar en detalle las interacciones entre estas variables y evaluar su impacto en distintos grupos demográficos con especial atención en variables del sueño.                    \n",
        "\n",
        "\n",
        "\n"
      ],
      "metadata": {
        "id": "8DxuLmHrwJ_u"
      }
    }
  ]
}